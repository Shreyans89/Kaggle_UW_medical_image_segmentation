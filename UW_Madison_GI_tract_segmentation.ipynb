{
 "cells": [
  {
   "cell_type": "code",
   "execution_count": 45,
   "id": "ed38259f-eaee-4313-b701-a4ca0889f1d5",
   "metadata": {},
   "outputs": [
    {
     "name": "stderr",
     "output_type": "stream",
     "text": [
      "wandb: Currently logged in as: shreyans (ai_in_pathology). Use `wandb login --relogin` to force relogin\n"
     ]
    }
   ],
   "source": [
    "!wandb login"
   ]
  },
  {
   "cell_type": "markdown",
   "id": "9a918cd0-b62f-4916-be85-c6d5fa17fa5d",
   "metadata": {},
   "source": [
    "# Image Segmentation: GI-Tract Scans"
   ]
  },
  {
   "cell_type": "code",
   "execution_count": 1,
   "id": "818710a5",
   "metadata": {},
   "outputs": [],
   "source": [
    "from fastai.vision.all import *\n",
    "import numpy as np\n",
    "import torch\n",
    "import pandas as pd\n",
    "import pdb\n",
    "from tqdm.notebook import tqdm\n",
    "from pathlib import Path\n",
    "import pandas as pd\n",
    "from tqdm import tqdm\n",
    "import time\n",
    "from collections import defaultdict\n",
    "import sklearn\n",
    "import torchvision.transforms as transforms\n",
    "import torch\n",
    "from torch.utils.data import Dataset,DataLoader\n",
    "import pdb\n",
    "import wandb"
   ]
  },
  {
   "cell_type": "code",
   "execution_count": 2,
   "id": "f10719d4",
   "metadata": {},
   "outputs": [],
   "source": [
    "train_df=pd.read_csv('train.csv')"
   ]
  },
  {
   "cell_type": "code",
   "execution_count": 3,
   "id": "da0adf2b",
   "metadata": {},
   "outputs": [
    {
     "data": {
      "text/html": [
       "<div>\n",
       "<style scoped>\n",
       "    .dataframe tbody tr th:only-of-type {\n",
       "        vertical-align: middle;\n",
       "    }\n",
       "\n",
       "    .dataframe tbody tr th {\n",
       "        vertical-align: top;\n",
       "    }\n",
       "\n",
       "    .dataframe thead th {\n",
       "        text-align: right;\n",
       "    }\n",
       "</style>\n",
       "<table border=\"1\" class=\"dataframe\">\n",
       "  <thead>\n",
       "    <tr style=\"text-align: right;\">\n",
       "      <th></th>\n",
       "      <th>id</th>\n",
       "      <th>class</th>\n",
       "      <th>segmentation</th>\n",
       "    </tr>\n",
       "  </thead>\n",
       "  <tbody>\n",
       "    <tr>\n",
       "      <th>0</th>\n",
       "      <td>case123_day20_slice_0001</td>\n",
       "      <td>large_bowel</td>\n",
       "      <td>NaN</td>\n",
       "    </tr>\n",
       "    <tr>\n",
       "      <th>1</th>\n",
       "      <td>case123_day20_slice_0001</td>\n",
       "      <td>small_bowel</td>\n",
       "      <td>NaN</td>\n",
       "    </tr>\n",
       "    <tr>\n",
       "      <th>2</th>\n",
       "      <td>case123_day20_slice_0001</td>\n",
       "      <td>stomach</td>\n",
       "      <td>NaN</td>\n",
       "    </tr>\n",
       "    <tr>\n",
       "      <th>3</th>\n",
       "      <td>case123_day20_slice_0002</td>\n",
       "      <td>large_bowel</td>\n",
       "      <td>NaN</td>\n",
       "    </tr>\n",
       "    <tr>\n",
       "      <th>4</th>\n",
       "      <td>case123_day20_slice_0002</td>\n",
       "      <td>small_bowel</td>\n",
       "      <td>NaN</td>\n",
       "    </tr>\n",
       "  </tbody>\n",
       "</table>\n",
       "</div>"
      ],
      "text/plain": [
       "                         id        class segmentation\n",
       "0  case123_day20_slice_0001  large_bowel          NaN\n",
       "1  case123_day20_slice_0001  small_bowel          NaN\n",
       "2  case123_day20_slice_0001      stomach          NaN\n",
       "3  case123_day20_slice_0002  large_bowel          NaN\n",
       "4  case123_day20_slice_0002  small_bowel          NaN"
      ]
     },
     "execution_count": 3,
     "metadata": {},
     "output_type": "execute_result"
    }
   ],
   "source": [
    "train_df.head()"
   ]
  },
  {
   "cell_type": "code",
   "execution_count": 4,
   "id": "14123615",
   "metadata": {},
   "outputs": [],
   "source": [
    "import time\n",
    "from collections import defaultdict\n",
    "\n",
    "\n",
    "class EventTimer():\n",
    "    def __init__(self):\n",
    "        ## if you stop an event (code block) without starting,\n",
    "        ## it will show 0 for the time elapsed\n",
    "        self.start_times=defaultdict(time.perf_counter)\n",
    "        self.elapsed={}\n",
    "        \n",
    "    def start(self,event_name:str):\n",
    "        self.start_times[event_name]=time.perf_counter()\n",
    "        \n",
    "    def stop(self, event_name:str):\n",
    "        end =time.perf_counter()\n",
    "        self.elapsed[event_name] = end - self.start_times[event_name]\n",
    "        \n",
    "timer=EventTimer()"
   ]
  },
  {
   "cell_type": "code",
   "execution_count": 5,
   "id": "5af39679",
   "metadata": {},
   "outputs": [],
   "source": [
    "all_imgs=get_image_files(Path('train'))"
   ]
  },
  {
   "cell_type": "code",
   "execution_count": 6,
   "id": "cb19625a-3c27-4927-832c-ee686b3802f2",
   "metadata": {},
   "outputs": [],
   "source": [
    "def filepath2id(fpath):\n",
    "    _,_,caseid,_,sliceid=str(fpath).split('\\\\')\n",
    "    ## join caseid and scanid with / to get the overall img_id\n",
    "    id_lst=np.array([caseid])\n",
    "    id_lst=np.concatenate((id_lst,sliceid.split('_')[:2]))\n",
    "    return '_'.join(id_lst)\n",
    "\n",
    "all_imgs_df=pd.DataFrame({'img_path':img_path,\n",
    "                        'id':filepath2id(img_path)} for img_path in all_imgs)"
   ]
  },
  {
   "cell_type": "code",
   "execution_count": 7,
   "id": "e99f4823-ae04-42f3-9781-d9c773dfbc70",
   "metadata": {
    "tags": []
   },
   "outputs": [
    {
     "data": {
      "text/html": [
       "<div>\n",
       "<style scoped>\n",
       "    .dataframe tbody tr th:only-of-type {\n",
       "        vertical-align: middle;\n",
       "    }\n",
       "\n",
       "    .dataframe tbody tr th {\n",
       "        vertical-align: top;\n",
       "    }\n",
       "\n",
       "    .dataframe thead th {\n",
       "        text-align: right;\n",
       "    }\n",
       "</style>\n",
       "<table border=\"1\" class=\"dataframe\">\n",
       "  <thead>\n",
       "    <tr style=\"text-align: right;\">\n",
       "      <th></th>\n",
       "      <th>img_path</th>\n",
       "      <th>id</th>\n",
       "    </tr>\n",
       "  </thead>\n",
       "  <tbody>\n",
       "    <tr>\n",
       "      <th>0</th>\n",
       "      <td>train\\case101\\case101_day20\\scans\\slice_0001_266_266_1.50_1.50.png</td>\n",
       "      <td>case101_day20_slice_0001</td>\n",
       "    </tr>\n",
       "    <tr>\n",
       "      <th>1</th>\n",
       "      <td>train\\case101\\case101_day20\\scans\\slice_0002_266_266_1.50_1.50.png</td>\n",
       "      <td>case101_day20_slice_0002</td>\n",
       "    </tr>\n",
       "    <tr>\n",
       "      <th>2</th>\n",
       "      <td>train\\case101\\case101_day20\\scans\\slice_0003_266_266_1.50_1.50.png</td>\n",
       "      <td>case101_day20_slice_0003</td>\n",
       "    </tr>\n",
       "    <tr>\n",
       "      <th>3</th>\n",
       "      <td>train\\case101\\case101_day20\\scans\\slice_0004_266_266_1.50_1.50.png</td>\n",
       "      <td>case101_day20_slice_0004</td>\n",
       "    </tr>\n",
       "    <tr>\n",
       "      <th>4</th>\n",
       "      <td>train\\case101\\case101_day20\\scans\\slice_0005_266_266_1.50_1.50.png</td>\n",
       "      <td>case101_day20_slice_0005</td>\n",
       "    </tr>\n",
       "    <tr>\n",
       "      <th>...</th>\n",
       "      <td>...</td>\n",
       "      <td>...</td>\n",
       "    </tr>\n",
       "    <tr>\n",
       "      <th>38491</th>\n",
       "      <td>train\\case92\\case92_day0\\scans\\slice_0140_266_266_1.50_1.50.png</td>\n",
       "      <td>case92_day0_slice_0140</td>\n",
       "    </tr>\n",
       "    <tr>\n",
       "      <th>38492</th>\n",
       "      <td>train\\case92\\case92_day0\\scans\\slice_0141_266_266_1.50_1.50.png</td>\n",
       "      <td>case92_day0_slice_0141</td>\n",
       "    </tr>\n",
       "    <tr>\n",
       "      <th>38493</th>\n",
       "      <td>train\\case92\\case92_day0\\scans\\slice_0142_266_266_1.50_1.50.png</td>\n",
       "      <td>case92_day0_slice_0142</td>\n",
       "    </tr>\n",
       "    <tr>\n",
       "      <th>38494</th>\n",
       "      <td>train\\case92\\case92_day0\\scans\\slice_0143_266_266_1.50_1.50.png</td>\n",
       "      <td>case92_day0_slice_0143</td>\n",
       "    </tr>\n",
       "    <tr>\n",
       "      <th>38495</th>\n",
       "      <td>train\\case92\\case92_day0\\scans\\slice_0144_266_266_1.50_1.50.png</td>\n",
       "      <td>case92_day0_slice_0144</td>\n",
       "    </tr>\n",
       "  </tbody>\n",
       "</table>\n",
       "<p>38496 rows × 2 columns</p>\n",
       "</div>"
      ],
      "text/plain": [
       "                                                                 img_path  \\\n",
       "0      train\\case101\\case101_day20\\scans\\slice_0001_266_266_1.50_1.50.png   \n",
       "1      train\\case101\\case101_day20\\scans\\slice_0002_266_266_1.50_1.50.png   \n",
       "2      train\\case101\\case101_day20\\scans\\slice_0003_266_266_1.50_1.50.png   \n",
       "3      train\\case101\\case101_day20\\scans\\slice_0004_266_266_1.50_1.50.png   \n",
       "4      train\\case101\\case101_day20\\scans\\slice_0005_266_266_1.50_1.50.png   \n",
       "...                                                                   ...   \n",
       "38491     train\\case92\\case92_day0\\scans\\slice_0140_266_266_1.50_1.50.png   \n",
       "38492     train\\case92\\case92_day0\\scans\\slice_0141_266_266_1.50_1.50.png   \n",
       "38493     train\\case92\\case92_day0\\scans\\slice_0142_266_266_1.50_1.50.png   \n",
       "38494     train\\case92\\case92_day0\\scans\\slice_0143_266_266_1.50_1.50.png   \n",
       "38495     train\\case92\\case92_day0\\scans\\slice_0144_266_266_1.50_1.50.png   \n",
       "\n",
       "                             id  \n",
       "0      case101_day20_slice_0001  \n",
       "1      case101_day20_slice_0002  \n",
       "2      case101_day20_slice_0003  \n",
       "3      case101_day20_slice_0004  \n",
       "4      case101_day20_slice_0005  \n",
       "...                         ...  \n",
       "38491    case92_day0_slice_0140  \n",
       "38492    case92_day0_slice_0141  \n",
       "38493    case92_day0_slice_0142  \n",
       "38494    case92_day0_slice_0143  \n",
       "38495    case92_day0_slice_0144  \n",
       "\n",
       "[38496 rows x 2 columns]"
      ]
     },
     "execution_count": 7,
     "metadata": {},
     "output_type": "execute_result"
    }
   ],
   "source": [
    "all_imgs_df"
   ]
  },
  {
   "cell_type": "markdown",
   "id": "2b281d81-ab6e-4c7e-8c27-f3cd544db91c",
   "metadata": {},
   "source": [
    "### Dataset"
   ]
  },
  {
   "cell_type": "code",
   "execution_count": 8,
   "id": "7a8b7d6d",
   "metadata": {
    "tags": []
   },
   "outputs": [
    {
     "name": "stdout",
     "output_type": "stream",
     "text": [
      "Overwriting RLE_Segmentation_Dataset_inference.py\n"
     ]
    }
   ],
   "source": [
    "%%writefile 'RLE_Segmentation_Dataset_inference.py'\n",
    "\n",
    "import sklearn\n",
    "import torchvision.transforms as transforms\n",
    "import torch\n",
    "from torch.utils.data import Dataset,DataLoader\n",
    "import pdb\n",
    "\n",
    "\n",
    "\n",
    "\n",
    "## dataset class gto nload only X (images), to generate dataloaders for inference\n",
    "class RLE_SegmentationDataset_inference(Dataset):\n",
    "    def __init__(self,img_paths_df,  transform=transforms.Resize((224,224))\n",
    "                 ):\n",
    "        \n",
    "        self.items=img_paths_df\n",
    "        self.item_transform = transform\n",
    "        \n",
    "        \n",
    "    def __len__(self):\n",
    "        return len(self.items)\n",
    "    \n",
    "   \n",
    "    def get_img_T(self,img_path):\n",
    "        img_t=TensorImage(Image.open(img_path))\n",
    "        H,W=img_t.shape\n",
    "        if self.item_transform:\n",
    "            img_t = self.item_transform(img_t.unsqueeze(0))\n",
    "            \n",
    "        return img_t.to(torch.float32) ,H,W                        \n",
    "    \n",
    "    def __getitem__(self, idx):\n",
    "        \n",
    "        item_data=self.items.iloc[idx]\n",
    "        img_path,img_id=item_data['img_path'],item_data['id']\n",
    "        img_t,H,W=self.get_img_T(img_path)\n",
    "        \n",
    "       ## return 3 channel image to put it through the fastai_model\n",
    "        return img_t*torch.ones((3,1,1))\n",
    "    \n",
    "    \n",
    "## dataset class to load both X and Y (for training)  - modify only __getitem__ method\n",
    "class RLE_SegmentationDataset_train(Dataset):\n",
    "    \n",
    "    def __init__(self,img_paths_df, label_df=pd.read_csv('train.csv'), item_transform=transforms.Resize((224,224)), \n",
    "                 target_transform=transforms.Resize((224,224))):\n",
    "        \n",
    "        self.items=img_paths_df\n",
    "        self.inference_ds=RLE_SegmentationDataset_inference(img_paths_df,item_transform)\n",
    "        self.img_labels_df=label_df\n",
    "        self.target_transform = target_transform\n",
    "        self.codes={'background':0,'small_bowel':3,'large_bowel':2,'stomach':1}\n",
    "        \n",
    "        \n",
    "        \n",
    "    def __len__(self):\n",
    "        return len(self.items)\n",
    "    \n",
    "    \n",
    "    def get_mask_T(self,img_id,H,W):\n",
    "        \n",
    "        label_data=self.img_labels_df[self.img_labels_df['id']==img_id]\n",
    "        label_data=label_data[label_data['segmentation'].notnull()]\n",
    "         #Incase of no segmentation rle encoding, assert that every pixel belongs to the background\n",
    "        if len(label_data)==0:\n",
    "            mask_t=torch.zeros((H,W))\n",
    "        else: \n",
    "            ## in case of overlap b/w pixels of different classes in labels,assign to\n",
    "            ## smallest class in order small_bowel<large_bowel<stomach\n",
    "            mask_t=torch.Tensor(np.stack([self.rle2mask(rle_pixels,H,W)*self.codes[pxl_cls] \n",
    "                                    for pxl_cls,rle_pixels in \n",
    "              zip(label_data['class'],label_data['segmentation'])]).max(axis=0))\n",
    "        if self.target_transform:\n",
    "            mask_t = TensorMask(self.target_transform(mask_t.unsqueeze(0)).squeeze(0).to(torch.int64))\n",
    "          \n",
    "        return mask_t   \n",
    "   \n",
    "\n",
    "\n",
    "         \n",
    "    def foreground_only(self):\n",
    "        \"\"\"Get a new dataset with images which have foreground segmentation classes\"\"\"\n",
    "        merge_img_lbls=pd.merge(left=self.items,right=self.img_labels_df,how='left')\n",
    "        nb_ids=np.unique(merge_img_lbls['id'][ merge_img_lbls['segmentation'].notnull()])\n",
    "       # nb_df=pd.DataFrame({'id': nb_ids})\n",
    "        foreground_df=self.items.set_index('id').loc[nb_ids]\n",
    "        return self.__class__(foreground_df.reset_index())\n",
    "        \n",
    "\n",
    "    def train_test_split(self,test_pct=0.2,random_seed=42):\n",
    "        train_df,test_df=sklearn.model_selection.train_test_split(self.items,test_size=test_pct,\n",
    "                                                                 random_state=random_seed)\n",
    "        \n",
    "        return self.__class__(train_df),self.__class__(test_df)\n",
    "    \n",
    "    \n",
    "    \n",
    "    @staticmethod\n",
    "    \n",
    "    def rle2mask(rle_pixels,H,W):\n",
    "        \n",
    "        rle_pixels=np.array(rle_pixels.split(sep=' '),dtype='int32')\n",
    "        \n",
    "        ## even entries are pixel start values\n",
    "        pxl_starts=rle_pixels[np.arange(start=0,stop=len(rle_pixels),step=2)]\n",
    "\n",
    "        ## Odd ones are number of pixels starting from start point in the mask\n",
    "        pxl_offsets=rle_pixels[np.arange(start=1,stop=len(rle_pixels),step=2)]\n",
    "\n",
    "        pxl_stops=pxl_starts+pxl_offsets\n",
    "\n",
    "        ## transpose so that flatten gives pixel locations as in start-stop-start-stop\n",
    "        pxl_start_locs=(np.stack([pxl_starts,pxl_stops]).T).flatten()\n",
    "\n",
    "        ## initialize flattened mask\n",
    "        flat_mask=np.arange(start=0,stop=H*W,step=1)+1\n",
    "\n",
    "        ## compute mask with pxl start locastions. an even number at each position \n",
    "        ## implies background ,odd numbers are foreground\n",
    "\n",
    "        even_odd_mask=(np.expand_dims(flat_mask,1)>=np.expand_dims(pxl_start_locs,0)).sum(axis=1)\n",
    "\n",
    "        ## odd numbers are foreground class\n",
    "        mask=even_odd_mask%2\n",
    "\n",
    "        mask=mask.reshape(H,W) \n",
    "        \n",
    "        \n",
    "        return mask\n",
    "    \n",
    "    def save_masks(self,folder_name='masks'):\n",
    "        \"\"\"create and save seh masks from RLE in \n",
    "          a folder 'masks' at the same level as train\n",
    "          (containing images)\n",
    "          each mask is identified by its corresponding \n",
    "          image file's id (taken from train.csv) \"\"\"\n",
    "        \n",
    "        save_folder=Path(folder_name)\n",
    "        save_folder.mkdir(exist_ok=True)\n",
    "        \n",
    "        for i,img_data in tqdm(enumerate(self.items)):\n",
    "            _,mask=self[i]\n",
    "            mask=PILMask.create(mask)\n",
    "            mask_path=save_folder/Path(img_data['id']+img_data['img_path'].suffix)\n",
    "            mask.save(mask_path)\n",
    "            \n",
    "    \n",
    "    \n",
    "    def __getitem__(self, idx):\n",
    "        \n",
    "        item_data=self.items.iloc[idx]\n",
    "        img_path,img_id=item_data['img_path'],item_data['id']\n",
    "        img_t,H,W=self.inference_ds.get_img_T(img_path)\n",
    "        \n",
    "        mask_t=self.get_mask_T(img_id,H,W)\n",
    "        return img_t, mask_t\n",
    "    \n",
    "        "
   ]
  },
  {
   "cell_type": "code",
   "execution_count": 81,
   "id": "ed710cc9-718b-4566-83d9-5185c5598e49",
   "metadata": {},
   "outputs": [
    {
     "name": "stdout",
     "output_type": "stream",
     "text": [
      "Overwriting RLE_Segmentation_Dataset.py\n"
     ]
    }
   ],
   "source": [
    "%%writefile 'RLE_Segmentation_Dataset.py'\n",
    "import sklearn\n",
    "import torchvision.transforms as transforms\n",
    "import torch\n",
    "from torch.utils.data import Dataset,DataLoader\n",
    "import pdb\n",
    "\n",
    "\n",
    "class RLE_SegmentationDataset(Dataset):\n",
    "    def __init__(self,img_paths_df, label_df=pd.read_csv('train.csv'), img_dir=Path('train'), transform=transforms.Resize((224,224)), \n",
    "                 target_transform=transforms.Resize((224,224))):\n",
    "        \n",
    "        self.items=img_paths_df\n",
    "        self.img_labels_df=label_df\n",
    "        self.img_dir = img_dir\n",
    "        self.transform = transform\n",
    "        self.target_transform = target_transform\n",
    "        self.codes={'background':0,'small_bowel':3,'large_bowel':2,'stomach':1}\n",
    "        \n",
    "        \n",
    "        \n",
    "        \n",
    "    def foreground_only(self):\n",
    "        \"\"\"Get a new dataset with images which have foreground segmentation classes\"\"\"\n",
    "        merge_img_lbls=pd.merge(left=self.items,right=self.img_labels_df,how='left')\n",
    "        nb_ids=np.unique(merge_img_lbls['id'][ merge_img_lbls['segmentation'].notnull()])\n",
    "       # nb_df=pd.DataFrame({'id': nb_ids})\n",
    "        foreground_df=self.items.set_index('id').loc[nb_ids]\n",
    "        return RLE_SegmentationDataset(foreground_df.reset_index())\n",
    "        \n",
    "\n",
    "    def __len__(self):\n",
    "        return len(self.items)\n",
    "    \n",
    "   \n",
    "    def train_test_split(self,test_pct=0.2,random_seed=42):\n",
    "        train_df,test_df=sklearn.model_selection.train_test_split(self.items,test_size=test_pct,\n",
    "                                                                 random_state=random_seed)\n",
    "        \n",
    "        return RLE_SegmentationDataset(train_df),RLE_SegmentationDataset(test_df)\n",
    "    \n",
    "    \n",
    "    \n",
    "    @staticmethod\n",
    "    \n",
    "    def rle2mask(rle_pixels,H,W):\n",
    "        \n",
    "        rle_pixels=np.array(rle_pixels.split(sep=' '),dtype='int32')\n",
    "        \n",
    "        ## even entries are pixel start values\n",
    "        pxl_starts=rle_pixels[np.arange(start=0,stop=len(rle_pixels),step=2)]\n",
    "\n",
    "        ## Odd ones are number of pixels starting from start point in the mask\n",
    "        pxl_offsets=rle_pixels[np.arange(start=1,stop=len(rle_pixels),step=2)]\n",
    "\n",
    "        pxl_stops=pxl_starts+pxl_offsets\n",
    "\n",
    "        ## transpose so that flatten gives pixel locations as in start-stop-start-stop\n",
    "        pxl_start_locs=(np.stack([pxl_starts,pxl_stops]).T).flatten()\n",
    "\n",
    "        ## initialize flattened mask\n",
    "        flat_mask=np.arange(start=0,stop=H*W,step=1)+1\n",
    "\n",
    "        ## compute mask with pxl start locastions. an even number at each position \n",
    "        ## implies background ,odd numbers are foreground\n",
    "\n",
    "        even_odd_mask=(np.expand_dims(flat_mask,1)>=np.expand_dims(pxl_start_locs,0)).sum(axis=1)\n",
    "\n",
    "        ## odd numbers are foreground class\n",
    "        mask=even_odd_mask%2\n",
    "\n",
    "        mask=mask.reshape(H,W) \n",
    "        \n",
    "        \n",
    "        return mask\n",
    "    \n",
    "    def save_masks(self,folder_name='masks'):\n",
    "        \"\"\"create and save seh masks from RLE in \n",
    "          a folder 'masks' at the same level as train\n",
    "          (containing images)\n",
    "          each mask is identified by its corresponding \n",
    "          image file's id (taken from train.csv) \"\"\"\n",
    "        \n",
    "        save_folder=Path(folder_name)\n",
    "        save_folder.mkdir(exist_ok=True)\n",
    "        \n",
    "        for i,img_data in tqdm(enumerate(self.items)):\n",
    "            _,mask=self[i]\n",
    "            mask=PILMask.create(mask)\n",
    "            mask_path=save_folder/Path(img_data['id']+img_data['img_path'].suffix)\n",
    "            mask.save(mask_path)\n",
    "        \n",
    "        \n",
    "\n",
    "    def get_img_T(self,img_path):\n",
    "        img_t=TensorImage(Image.open(img_path))\n",
    "        H,W=img_t.shape\n",
    "        if self.transform:\n",
    "            img_t = self.transform(img_t.unsqueeze(0))\n",
    "            \n",
    "        return img_t.to(torch.float32) ,H,W                        \n",
    "    \n",
    "    \n",
    "    def get_mask_T(self,img_id,H,W):\n",
    "        \n",
    "        label_data=self.img_labels_df[self.img_labels_df['id']==img_id]\n",
    "        label_data=label_data[label_data['segmentation'].notnull()]\n",
    "         #Incase of no segmentation rle encoding, assert that every pixel belongs to the background\n",
    "        if len(label_data)==0:\n",
    "            mask_t=torch.zeros((H,W))\n",
    "        else: \n",
    "            ## in case of overlap b/w pixels of different classes in labels,assign to\n",
    "            ## smallest class in order small_bowel<large_bowel<stomach\n",
    "            mask_t=torch.Tensor(np.stack([RLE_SegmentationDataset.rle2mask(rle_pixels,H,W)*self.codes[pxl_cls] \n",
    "                                    for pxl_cls,rle_pixels in \n",
    "              zip(label_data['class'],label_data['segmentation'])]).max(axis=0))\n",
    "        if self.target_transform:\n",
    "            mask_t = TensorMask(self.transform(mask_t.unsqueeze(0)).squeeze(0).to(torch.int64))\n",
    "          \n",
    "        return mask_t   \n",
    "        \n",
    "    \n",
    "    \n",
    "    def __getitem__(self, idx):\n",
    "        \n",
    "        item_data=self.items.iloc[idx]\n",
    "        img_path,img_id=item_data['img_path'],item_data['id']\n",
    "        img_t,H,W=self.get_img_T(img_path)\n",
    "        \n",
    "        mask_t=self.get_mask_T(img_id,H,W)\n",
    "        return img_t, mask_t\n"
   ]
  },
  {
   "cell_type": "markdown",
   "id": "d9181f45-d07e-49db-a850-37d80b942194",
   "metadata": {},
   "source": [
    "## CallBacks"
   ]
  },
  {
   "cell_type": "code",
   "execution_count": 22,
   "id": "0b0ae63e-9218-4707-b3de-cb352b004533",
   "metadata": {},
   "outputs": [],
   "source": [
    "from fastai.callback.core import Callback\n",
    "\n",
    "def display_change(model,\n",
    "                   test_img_path,\n",
    "                   dls,\n",
    "                   epoch_num,\n",
    "                   batch_num,\n",
    "                   save_folder='results'):\n",
    "    \n",
    "    save_folder=Path(save_folder)\n",
    "    save_folder.mkdir(exist_ok=True)\n",
    "   \n",
    "    model_istrain=model.training\n",
    "   \n",
    "    img_t,H,W=dls.dataset.get_img_T(test_img_path)\n",
    "    img_id=filepath2id(test_img_path)\n",
    "    mask_t=dls.dataset.get_mask_T(img_id,H,W)\n",
    "    \n",
    "    model.eval()\n",
    "    \n",
    "    with torch.no_grad():\n",
    "        pred_t=model(img_t.unsqueeze(0).to(dls.device))\n",
    "        \n",
    "    if model_istrain:\n",
    "        model.train()\n",
    "    \n",
    "    pred_t=pred_t.argmax(dim=1)\n",
    "    out=torch.cat((pred_t.squeeze(0),mask_t.to(dls.device)),dim=1)\n",
    "    show_image(out)\n",
    "    mask_path=save_folder/Path('_'.join(['epoch',str(epoch_num),'batch',str(batch_num),test_img_path.suffix]))\n",
    "    PILMask.create(out.to('cpu')).save(mask_path)\n",
    "    \n",
    "\n",
    "\n",
    "\n",
    "## a cb to do inference on test_items and save predicted masks with labels\n",
    "def save_training_progress(self,test_items=ds_fg.items.iloc[-5:],save_folder=\"inference_progress\"):\n",
    "    save_folder=Path(save_folder)\n",
    "    save_folder.mkdir(exist_ok=True)\n",
    "    \n",
    "   \n",
    "    if self.iter%200==0:\n",
    "        save_fname='iteration_{}_output.png'.format(self.iter)\n",
    "        inps,outs,lbls=get_predictions(self,test_items)\n",
    "        save_predictions(inps,outs,lbls,save_folder/Path(save_fname))\n",
    "        self.model=self.model.to('cuda')\n",
    "        if self.model.training:\n",
    "            self.model.train()\n",
    "    \n",
    "        \n",
    "    \n",
    "    \n",
    "\n",
    "\n",
    "## save inputs,ground truth and predictions side by side\n",
    "def save_predictions(inputs,outputs,labels,fname):\n",
    "    row_list=[]\n",
    "    for img,pred_mask,lbl_mask in zip(inputs,outputs,labels):\n",
    "        \n",
    "        img=frame_image(np.transpose(img,axes=(1,2,0))/img.max())\n",
    "        pred_mask=frame_image(mask2display(pred_mask))\n",
    "        lbl_mask=frame_image(mask2display(lbl_mask))\n",
    "        row=np.concatenate((img,pred_mask,lbl_mask),axis=1)\n",
    "        row_list.append(row)\n",
    "    \n",
    "    row_array=np.concatenate(row_list,axis=0)\n",
    "    \n",
    "    plt.figure(figsize = (20,20))\n",
    "    plt.imsave(fname,row_array)\n",
    "    \n",
    "save_training_progress_cb=Callback(after_step=save_training_progress)    \n",
    " \n",
    "    \n",
    "    "
   ]
  },
  {
   "cell_type": "markdown",
   "id": "3e84feb5-14af-4c0c-a42e-35e13960fcb7",
   "metadata": {},
   "source": [
    "### Dataset Instantiation "
   ]
  },
  {
   "cell_type": "code",
   "execution_count": 11,
   "id": "edf3d1e8-d81d-4552-b235-0af4324c7881",
   "metadata": {
    "tags": []
   },
   "outputs": [],
   "source": [
    "ds=RLE_SegmentationDataset(all_imgs_df)\n",
    "ds_fg=ds.foreground_only()\n"
   ]
  },
  {
   "cell_type": "markdown",
   "id": "e77c9c80-9734-4937-babd-fc738374a62a",
   "metadata": {},
   "source": [
    "### Dataloaders Instantiation "
   ]
  },
  {
   "cell_type": "code",
   "execution_count": 13,
   "id": "ac14e22a-666f-4769-9800-96bbe79958eb",
   "metadata": {},
   "outputs": [],
   "source": [
    "ds_train,ds_test=ds_fg.train_test_split()\n"
   ]
  },
  {
   "cell_type": "code",
   "execution_count": 23,
   "id": "72510493-9661-456c-b600-a3d75901b86b",
   "metadata": {
    "tags": []
   },
   "outputs": [
    {
     "name": "stdout",
     "output_type": "stream",
     "text": [
      "Due to IPython and Windows limitation, python multiprocessing isn't available now.\n",
      "So `number_workers` is changed to 0 to avoid getting stuck\n",
      "Due to IPython and Windows limitation, python multiprocessing isn't available now.\n",
      "So `number_workers` is changed to 0 to avoid getting stuck\n"
     ]
    }
   ],
   "source": [
    "dls=SegmentationDataLoaders.from_dsets(ds_train,ds_test,bs=16,device='cuda')"
   ]
  },
  {
   "cell_type": "code",
   "execution_count": 15,
   "id": "7e96876d-0d6e-47fb-82e7-3e96f0f47865",
   "metadata": {},
   "outputs": [
    {
     "data": {
      "image/png": "[encoded data removed]",
      "text/plain": [
       "<Figure size 432x216 with 2 Axes>"
      ]
     },
     "metadata": {
      "needs_background": "light"
     },
     "output_type": "display_data"
    }
   ],
   "source": [
    "dls.show_batch()"
   ]
  },
  {
   "cell_type": "markdown",
   "id": "a866633d-fbf6-46e2-b739-484022559b1f",
   "metadata": {},
   "source": [
    "### Code for Inference"
   ]
  },
  {
   "cell_type": "code",
   "execution_count": 16,
   "id": "c1163487-48a7-4fbe-aa25-184fd6c9acfa",
   "metadata": {},
   "outputs": [],
   "source": [
    "\n",
    "import fastai\n",
    "\n",
    "## run inference on test items provided as a dataframe\n",
    "\n",
    "def get_predictions(learner:fastai.learner.Learner,test_items,device='cpu'):\n",
    "    \n",
    "    test_ds=learner.dls.valid_ds.__class__(test_items)\n",
    "    test_dl=TfmdDL(test_ds,bs=16)\n",
    "    model=learner.model.to(device)\n",
    "    model.eval()\n",
    "    inputs=[]\n",
    "    outputs=[]\n",
    "    labels=[]\n",
    "    with torch.no_grad():\n",
    "        for xb,yb in test_dl:\n",
    "            xb,yb=xb.to(device),yb.to(device)\n",
    "            xb_3c=xb*torch.ones((1,3,1,1),device=device)\n",
    "            out=learner.model(xb_3c)\n",
    "            preds=out.argmax(dim=1)\n",
    "            ## true input is 3 channel,with 1 channel img being repeated 3rice\n",
    "            inputs.append(xb_3c)\n",
    "            labels.append(yb)\n",
    "            outputs.append(preds)\n",
    "    \n",
    " \n",
    "    inps,outs,lbls=[torch.cat(tensor_list) for tensor_list in [inputs,outputs,labels]]\n",
    "    return inps,outs,lbls\n",
    "\n",
    "\n",
    "\n",
    "## show inputs,predictions and labels\n",
    "def show_predictions(inputs,outputs,labels):\n",
    "    line_thickness=inputs.shape[-1]//10\n",
    "    row_list=[]\n",
    "    for img,pred_mask,lbl_mask in zip(inputs,outputs,labels):\n",
    "        \n",
    "        img=frame_image(np.transpose(img,axes=(1,2,0))/img.max())\n",
    "        pred_mask=frame_image(mask2display(pred_mask))\n",
    "        lbl_mask=frame_image(mask2display(lbl_mask))\n",
    "        row=np.concatenate((img,pred_mask,lbl_mask),axis=1)\n",
    "        row_list.append(row)\n",
    "    \n",
    "    row_array=np.concatenate(row_list,axis=0)\n",
    "    plt.figure(figsize = (20,20))\n",
    "    plt.imshow(row_array, interpolation='nearest')\n",
    "\n",
    "\n",
    "\n",
    "\n",
    "\n",
    "\n",
    "def mask2display(mask,codes={'background':0,'small_bowel':3,'large_bowel':2,'stomach':1},\n",
    "                 color_codes={0:'lightblue',3:'yellow',2:'green',1:'red'}):\n",
    "    coloured_masks= [np.array((mask==code).unsqueeze(2))*np.array(matplotlib.colors.to_rgb(color)).reshape((1,1,3)) for code,color in color_codes.items()]\n",
    "    mask_img=np.stack(coloured_masks,axis=0).sum(axis=0)\n",
    "    return mask_img\n",
    "    \n",
    "\n",
    "## create frame of white pixels (of 10% img width) around an image        \n",
    "def frame_image(img,width=10):\n",
    "    H,W,C=img.shape\n",
    "    framed_img=np.ones((H+2*width,W+2*width,C))\n",
    "    framed_img[width:-width,width:-width,:]=img\n",
    "    return framed_img        \n",
    "    "
   ]
  },
  {
   "cell_type": "markdown",
   "id": "f5f686e5-104f-4d98-bec4-ba0c11b3d1cf",
   "metadata": {},
   "source": [
    "### CUSTOM Learner equivalent to fastais learner class"
   ]
  },
  {
   "cell_type": "code",
   "execution_count": 17,
   "id": "5be714ec-a383-4560-8732-2767da999565",
   "metadata": {
    "tags": []
   },
   "outputs": [],
   "source": [
    "#%%writefile 'Pytorch_Learner.py'\n",
    "\n",
    "import pdb\n",
    "from tqdm.notebook import tqdm\n",
    "\n",
    "\n",
    "class PyTorchLearner():\n",
    "    def __init__(self,model,dls,optim_class,lr,\n",
    "                 loss_function,metrics=None,device='cuda',**kwargs):\n",
    "        self.device=device\n",
    "        self.model=model\n",
    "        self.dls=dls\n",
    "        self.lr=lr\n",
    "        self.optimizer = optim_class(self.model.parameters(),self.lr,**kwargs)\n",
    "        self.loss_function = loss_function\n",
    "        self.metrics = metrics\n",
    "    \n",
    "    \n",
    "    @staticmethod\n",
    "    def update_running_stats(running_val,current_val,num_evals):\n",
    "        running_val+=(1/(num_evals+1)*(current_val-running_val)).detach().item()\n",
    "        return running_val\n",
    "\n",
    "    \n",
    "    \n",
    "    def train_epoch(self,train_loader):\n",
    "        \"\"\"run one training epoch on train dl return average train loss \n",
    "         and optionally run callbacks\"\"\"\n",
    "        self.model.train()\n",
    "        running_trainloss=0.\n",
    "      \n",
    "        for j,(xb,yb) in enumerate(tqdm(train_loader)):\n",
    "            xb,yb=xb.to(self.device),yb.to(self.device)\n",
    "            y_pred=self.model(xb)\n",
    "            trainloss=self.loss_function(y_pred,yb)\n",
    "            running_trainloss=PyTorchLearner.update_running_stats(running_trainloss,\n",
    "                                                                     trainloss,j)\n",
    "            self.optimizer.zero_grad()\n",
    "            trainloss.backward()\n",
    "            self.optimizer.step()\n",
    "        return running_trainloss \n",
    "    \n",
    "     \n",
    "    def valid_epoch(self,eval_loader):\n",
    "        \"\"\"run one evaluation epoch on the eval loader,return valid loss\n",
    "           and metrics\"\"\"\n",
    "        self.model.eval()\n",
    "        running_evalloss=0.\n",
    "        running_metrics=defaultdict(int)\n",
    "        for k,(xb,yb) in enumerate(tqdm(eval_loader)):\n",
    "            xb,yb=xb.to(self.device),yb.to(self.device)\n",
    "            with torch.no_grad():\n",
    "                y_pred=self.model(xb)\n",
    "                if self.metrics:\n",
    "                    for metric_name,metric in self.metrics.items():\n",
    "                        running_metrics[metric_name]=PyTorchLearner.update_running_stats(running_metrics[metric_name],\n",
    "                                                                      metric(y_pred,yb),k)\n",
    "                evalloss=self.loss_function(y_pred,yb)\n",
    "                running_evalloss=PyTorchLearner.update_running_stats(running_evalloss,\n",
    "                                                                      evalloss,k)\n",
    "            return running_evalloss,running_metrics\n",
    "    \n",
    "    \n",
    "    \n",
    "    \n",
    "    \n",
    "    \n",
    "    def fit(self,n_epochs):\n",
    "        train_loader,eval_loader=self.dls\n",
    "        self.model=self.model.to(self.device)\n",
    "        \"\"\" run n_epoch training and validation epochs\"\"\"\n",
    "        log=[]\n",
    "        for i in tqdm(range(n_epochs)):\n",
    "            train_loss=self.train_epoch(train_loader)\n",
    "            eval_loss,metrics_dict=self.valid_epoch(eval_loader)\n",
    "                \n",
    "            row={'epoch':i, 'train_loss':train_loss, 'eval_loss': eval_loss}\n",
    "            row.update(metrics_dict)\n",
    "            wandb.log(row)\n",
    "            log.append(row)\n",
    "            tracking_df=pd.DataFrame(log)\n",
    "            display(tracking_df)\n",
    "        \n",
    "        ## perform cleanup\n",
    "        self.model=self.model.to('cpu')\n",
    "        torch.cuda.empty_cache()\n",
    "        \n",
    "        return tracking_df\n",
    "    \n",
    "    \n",
    "   "
   ]
  },
  {
   "cell_type": "markdown",
   "id": "9a9f79cc-f8fc-479f-9bda-0adadf162954",
   "metadata": {},
   "source": [
    "## $\\frac{2 * |X \\cap Y|}{|X| + |Y|}$"
   ]
  },
  {
   "cell_type": "markdown",
   "id": "b6d887b9-e657-4300-8a99-28a687067435",
   "metadata": {},
   "source": [
    "### Metrics and Loss functions"
   ]
  },
  {
   "cell_type": "code",
   "execution_count": 18,
   "id": "7dd599ec-ff7a-4406-9b08-3ebb22455734",
   "metadata": {
    "tags": []
   },
   "outputs": [],
   "source": [
    "#%%writefile  'loss_and_metrics.py'\n",
    "\n",
    "from functools import partial\n",
    "\n",
    "def dice_coeff(pred, targ,smooth=1):\n",
    "    \"Compute dice coeff per class then average b/w predicted and target masks\"\n",
    "    classes=range(pred.shape[1])\n",
    "    ## get 1_hot pred masks\n",
    "    pred_mask=pred.argmax(dim=1)\n",
    "    pred_1hot=torch.stack([pred_mask==c for c in classes],dim=1)\n",
    "    ## get 1_hot target for each class\n",
    "    target_1hot=torch.stack([targ==c for c in classes],dim=1)\n",
    "    ## find intersection (and union) for each class,by summing slong Batch,H,W dims\n",
    "    intersect_each_class=(pred_1hot*target_1hot).sum(axis=(0,2,3))+smooth\n",
    "    set_sum_each_class=target_1hot.sum(axis=(0,2,3))+pred_1hot.sum(axis=(0,2,3))+smooth\n",
    "    ## accumalate class wise intersection/set_sum by taking average across classes\n",
    "    intersect_by_sum=(intersect_each_class/set_sum_each_class).mean()\n",
    "    \n",
    "    return 2*intersect_by_sum\n",
    "\n",
    "\n",
    "def dice_coeff_foreground(pred, targ,smooth=1):\n",
    "    \"Compute dice coeff per class (excluding background) then average b/w predicted and target masks\"\n",
    "    ## exclude backgroud class=0 from dice calculation\n",
    "    classes=range(1,pred.shape[1])\n",
    "    ## get 1_hot pred masks\n",
    "    pred_mask=pred.argmax(dim=1)\n",
    "    pred_1hot=torch.stack([pred_mask==c for c in classes],dim=1)\n",
    "    ## get 1_hot target for each class\n",
    "    target_1hot=torch.stack([targ==c for c in classes],dim=1)\n",
    "    ## find intersection (and union) for each class,by summing slong Batch,H,W dims\n",
    "    intersect_each_class=(pred_1hot*target_1hot).sum(axis=(0,2,3))+smooth\n",
    "    set_sum_each_class=target_1hot.sum(axis=(0,2,3))+pred_1hot.sum(axis=(0,2,3))+smooth\n",
    "    ## accumalate class wise intersection/set_sum by taking average across classes\n",
    "    intersect_by_sum=(intersect_each_class/set_sum_each_class).mean()\n",
    "    \n",
    "    return 2*intersect_by_sum\n",
    "\n",
    "\n",
    "\n",
    "## implementing a smoothen version of the dice coeff, tranforming it to loss =1-dice_coef (to minimize)\n",
    "def dice_loss(pred, targ,smooth=1):\n",
    "    \"Compute dice coeff b/w predicted and target masks\"\n",
    "    ## softmax instead of argmax to make it differentiable\n",
    "    classes=range(pred.shape[1])\n",
    "    pred_mask_soft=F.softmax(pred,dim=1)\n",
    "    target_1hot=torch.stack([targ==c for c in classes],dim=1)\n",
    "    ## find intersection (and union) for each class,by summing slong Batch,H,W dims\n",
    "    intersect_each_class=(pred_mask_soft*target_1hot).sum(axis=(0,2,3))+smooth\n",
    "    set_sum_each_class=target_1hot.sum(axis=(0,2,3))+pred_mask_soft.sum(axis=(0,2,3))+smooth\n",
    "    ## accumalate class wise intersection/set_sum by taking average across classes\n",
    "    intersect_by_sum=(intersect_each_class/set_sum_each_class).mean()\n",
    "    \n",
    "    return 1-2*intersect_by_sum\n",
    "\n",
    "## what pctage of actual pixels of each class are detected\n",
    "# class_accuracy_metrics={class_name:}\n",
    "\n",
    "def pixel_accuracy(pred, targ):\n",
    "    \"Compute dice coeff b/w predicted and target masks\"\n",
    "    pred_mask=pred.argmax(dim=1)\n",
    "    return (pred_mask==targ).float().mean()\n",
    "\n",
    "def pixel_accuracy_cls(pred, targ,class_num,smooth=1):\n",
    "    \"Compute dice coeff b/w predicted and target masks\"\n",
    "    pred_mask=pred.argmax(dim=1)\n",
    "    class_mask=(targ==class_num)\n",
    "    detected_pxl_count=((pred_mask==class_num)*class_mask).sum()\n",
    "    return (detected_pxl_count+smooth)/(class_mask.sum()+smooth)\n",
    "\n",
    "#def focal_loss(pred,targ,gamma=0):\n",
    " #   \"\"\"calculate the focal loss between pred and targ \"\"\"\n",
    "  #  classes=range(pred.shape[1])  \n",
    "  #  pred_probs=F.softmax(pred,dim=1)#bs x num_classes x H x W\n",
    "  #  target_1hot=torch.stack([targ==c for c in classes],dim=1)\n",
    "  #  pred_likelyhood=(target_1hot*pred_probs).sum(dim=1)           \n",
    "  #  pdb.set_trace()\n",
    "  #  loss=-(1-pred_likelyhood)**gamma*torch.log(pred_likelyhood) ## bs X H X W\n",
    "  #  return loss.mean()\n",
    "\n",
    "\n",
    "def focal_loss(pred,targ,weights={'background':1.,'small_bowel':16.,'large_bowel':16.,'stomach':16.},\n",
    "               codes={'background': 0, 'small_bowel': 3, 'large_bowel': 2, 'stomach': 1},gamma=2):\n",
    "    \"\"\"calculate the focal loss between pred and targ \"\"\"\n",
    "    if weights:\n",
    "        weights=torch.Tensor([weights[class_name] for class_name in sorted(codes,key=codes.__getitem__)]).to('cuda')\n",
    "    n_log_likelyhood=CrossEntropyLossFlat(axis=1,reduction='none',weight=weights)(pred,targ)      \n",
    "    loss=n_log_likelyhood*(1-torch.exp(-n_log_likelyhood))**gamma ## bs X H X W\n",
    "    return loss.mean()\n",
    "\n",
    "def weighted_crossentropy_flat(pred,targ,weights={'background':1.,'small_bowel':16.,'large_bowel':16.,'stomach':16.},\n",
    "               codes={'background': 0, 'small_bowel': 3, 'large_bowel': 2, 'stomach': 1}):\n",
    "    \"\"\"calculate the weighted cross_entropy between pred and targ \"\"\"\n",
    "    if weights:\n",
    "        weights=torch.Tensor([weights[class_name] for class_name in sorted(codes,key=codes.__getitem__)]).to('cuda')\n",
    "    return CrossEntropyLossFlat(axis=1,weight=weights)(pred,targ)      \n",
    "    \n",
    "   \n",
    "\n",
    "def segmentation_cross_entropy_loss(img_out,mask):\n",
    "    return F.cross_entropy(img_out.flatten(start_dim=2),mask.flatten(start_dim=1))\n",
    "    \n"
   ]
  },
  {
   "cell_type": "code",
   "execution_count": 19,
   "id": "4b6d1ae4-23c3-4c2a-b5bf-917e555c0790",
   "metadata": {
    "tags": []
   },
   "outputs": [],
   "source": [
    "## deining metrics+ losses to train\n",
    "\n",
    "metrics={'dice_coeff_fg':dice_coeff_foreground,'pixel_accuracy':pixel_accuracy,'cross_entropy':CrossEntropyLossFlat(axis=1)}\n",
    "class_accus={class_name:partial(pixel_accuracy_cls,class_num=class_num) \n",
    "             for class_name,class_num in ds.codes.items()}\n",
    "metrics.update(class_accus)\n",
    "metrics_list=list(metrics.values())"
   ]
  },
  {
   "cell_type": "code",
   "execution_count": null,
   "id": "7d0c6ba6-bb3b-48cb-a284-91c1d483ac29",
   "metadata": {},
   "outputs": [],
   "source": [
    "import datetime\n",
    "'model_{}'.format(datetime.datetime.now())\n",
    "## distinguish model saves by datetime when training starts"
   ]
  },
  {
   "cell_type": "code",
   "execution_count": 24,
   "id": "0b7f5f8e-1c64-44dd-bf4c-2cf168c7bc8e",
   "metadata": {},
   "outputs": [],
   "source": [
    "learn_fastai=unet_learner(dls,resnet34,n_out=4,loss_func=focal_loss,metrics=metrics_list,lr=4.2e-4,cbs=[SaveModelCallback(monitor='dice_coeff_foreground',\n",
    "                                                                                                     fname='model_{}'.format(datetime.datetime.now())),\n",
    "                                                                                                        save_training_progress_cb])"
   ]
  },
  {
   "cell_type": "code",
   "execution_count": 25,
   "id": "ea63560f-1114-41c2-a6c6-96d0ae0ff2e1",
   "metadata": {
    "collapsed": true,
    "jupyter": {
     "outputs_hidden": true
    },
    "tags": []
   },
   "outputs": [
    {
     "data": {
      "text/html": [
       "\n",
       "<style>\n",
       "    /* Turns off some styling */\n",
       "    progress {\n",
       "        /* gets rid of default border in Firefox and Opera. */\n",
       "        border: none;\n",
       "        /* Needs to be in here for Safari polyfill so background images work as expected. */\n",
       "        background-size: auto;\n",
       "    }\n",
       "    progress:not([value]), progress:not([value])::-webkit-progress-bar {\n",
       "        background: repeating-linear-gradient(45deg, #7e7e7e, #7e7e7e 10px, #5c5c5c 10px, #5c5c5c 20px);\n",
       "    }\n",
       "    .progress-bar-interrupted, .progress-bar-interrupted::-webkit-progress-bar {\n",
       "        background: #F44336;\n",
       "    }\n",
       "</style>\n"
      ],
      "text/plain": [
       "<IPython.core.display.HTML object>"
      ]
     },
     "metadata": {},
     "output_type": "display_data"
    },
    {
     "data": {
      "text/html": [
       "<table border=\"1\" class=\"dataframe\">\n",
       "  <thead>\n",
       "    <tr style=\"text-align: left;\">\n",
       "      <th>epoch</th>\n",
       "      <th>train_loss</th>\n",
       "      <th>valid_loss</th>\n",
       "      <th>dice_coeff_foreground</th>\n",
       "      <th>pixel_accuracy</th>\n",
       "      <th>None</th>\n",
       "      <th>pixel_accuracy_cls</th>\n",
       "      <th>pixel_accuracy_cls</th>\n",
       "      <th>pixel_accuracy_cls</th>\n",
       "      <th>pixel_accuracy_cls</th>\n",
       "      <th>time</th>\n",
       "    </tr>\n",
       "  </thead>\n",
       "  <tbody>\n",
       "    <tr>\n",
       "      <td>0</td>\n",
       "      <td>6.819589</td>\n",
       "      <td>4.894317</td>\n",
       "      <td>0.504193</td>\n",
       "      <td>0.952858</td>\n",
       "      <td>1.353431</td>\n",
       "      <td>0.961750</td>\n",
       "      <td>0.773010</td>\n",
       "      <td>0.815116</td>\n",
       "      <td>0.558861</td>\n",
       "      <td>48:03</td>\n",
       "    </tr>\n",
       "    <tr>\n",
       "      <td>1</td>\n",
       "      <td>3.576029</td>\n",
       "      <td>3.183226</td>\n",
       "      <td>0.607838</td>\n",
       "      <td>0.971856</td>\n",
       "      <td>0.402510</td>\n",
       "      <td>0.982330</td>\n",
       "      <td>0.631747</td>\n",
       "      <td>0.895428</td>\n",
       "      <td>0.545349</td>\n",
       "      <td>34:39</td>\n",
       "    </tr>\n",
       "    <tr>\n",
       "      <td>2</td>\n",
       "      <td>2.020074</td>\n",
       "      <td>1.894007</td>\n",
       "      <td>0.554371</td>\n",
       "      <td>0.961971</td>\n",
       "      <td>0.483733</td>\n",
       "      <td>0.969807</td>\n",
       "      <td>0.640989</td>\n",
       "      <td>0.888280</td>\n",
       "      <td>0.741508</td>\n",
       "      <td>35:00</td>\n",
       "    </tr>\n",
       "    <tr>\n",
       "      <td>3</td>\n",
       "      <td>1.496395</td>\n",
       "      <td>1.504364</td>\n",
       "      <td>0.542197</td>\n",
       "      <td>0.946287</td>\n",
       "      <td>0.768665</td>\n",
       "      <td>0.950902</td>\n",
       "      <td>0.909317</td>\n",
       "      <td>0.784151</td>\n",
       "      <td>0.794152</td>\n",
       "      <td>34:30</td>\n",
       "    </tr>\n",
       "    <tr>\n",
       "      <td>4</td>\n",
       "      <td>0.975801</td>\n",
       "      <td>0.587341</td>\n",
       "      <td>0.691812</td>\n",
       "      <td>0.976410</td>\n",
       "      <td>0.148860</td>\n",
       "      <td>0.981822</td>\n",
       "      <td>0.874810</td>\n",
       "      <td>0.893949</td>\n",
       "      <td>0.716199</td>\n",
       "      <td>35:24</td>\n",
       "    </tr>\n",
       "    <tr>\n",
       "      <td>5</td>\n",
       "      <td>0.766816</td>\n",
       "      <td>0.932444</td>\n",
       "      <td>0.683506</td>\n",
       "      <td>0.974513</td>\n",
       "      <td>0.154632</td>\n",
       "      <td>0.979766</td>\n",
       "      <td>0.886605</td>\n",
       "      <td>0.921734</td>\n",
       "      <td>0.667883</td>\n",
       "      <td>35:17</td>\n",
       "    </tr>\n",
       "    <tr>\n",
       "      <td>6</td>\n",
       "      <td>0.639469</td>\n",
       "      <td>1.028086</td>\n",
       "      <td>0.736477</td>\n",
       "      <td>0.980787</td>\n",
       "      <td>0.139808</td>\n",
       "      <td>0.986502</td>\n",
       "      <td>0.960923</td>\n",
       "      <td>0.840300</td>\n",
       "      <td>0.676582</td>\n",
       "      <td>37:45</td>\n",
       "    </tr>\n",
       "  </tbody>\n",
       "</table>"
      ],
      "text/plain": [
       "<IPython.core.display.HTML object>"
      ]
     },
     "metadata": {},
     "output_type": "display_data"
    },
    {
     "name": "stdout",
     "output_type": "stream",
     "text": [
      "Due to IPython and Windows limitation, python multiprocessing isn't available now.\n",
      "So `number_workers` is changed to 0 to avoid getting stuck\n"
     ]
    },
    {
     "name": "stderr",
     "output_type": "stream",
     "text": [
      "D:\\Anaconda3\\envs\\fastai2022\\lib\\site-packages\\fastai\\callback\\core.py:69: UserWarning: You are shadowing an attribute (model) that exists in the learner. Use `self.learn.model` to avoid this\n",
      "  warn(f\"You are shadowing an attribute ({name}) that exists in the learner. Use `self.learn.{name}` to avoid this\")\n"
     ]
    },
    {
     "name": "stdout",
     "output_type": "stream",
     "text": [
      "Due to IPython and Windows limitation, python multiprocessing isn't available now.\n",
      "So `number_workers` is changed to 0 to avoid getting stuck\n",
      "Due to IPython and Windows limitation, python multiprocessing isn't available now.\n",
      "So `number_workers` is changed to 0 to avoid getting stuck\n",
      "Due to IPython and Windows limitation, python multiprocessing isn't available now.\n",
      "So `number_workers` is changed to 0 to avoid getting stuck\n",
      "Due to IPython and Windows limitation, python multiprocessing isn't available now.\n",
      "So `number_workers` is changed to 0 to avoid getting stuck\n",
      "Better model found at epoch 0 with dice_coeff_foreground value: 0.5041932463645935.\n",
      "Due to IPython and Windows limitation, python multiprocessing isn't available now.\n",
      "So `number_workers` is changed to 0 to avoid getting stuck\n",
      "Due to IPython and Windows limitation, python multiprocessing isn't available now.\n",
      "So `number_workers` is changed to 0 to avoid getting stuck\n",
      "Due to IPython and Windows limitation, python multiprocessing isn't available now.\n",
      "So `number_workers` is changed to 0 to avoid getting stuck\n",
      "Due to IPython and Windows limitation, python multiprocessing isn't available now.\n",
      "So `number_workers` is changed to 0 to avoid getting stuck\n",
      "Due to IPython and Windows limitation, python multiprocessing isn't available now.\n",
      "So `number_workers` is changed to 0 to avoid getting stuck\n",
      "Better model found at epoch 1 with dice_coeff_foreground value: 0.6078378558158875.\n",
      "Due to IPython and Windows limitation, python multiprocessing isn't available now.\n",
      "So `number_workers` is changed to 0 to avoid getting stuck\n",
      "Due to IPython and Windows limitation, python multiprocessing isn't available now.\n",
      "So `number_workers` is changed to 0 to avoid getting stuck\n",
      "Due to IPython and Windows limitation, python multiprocessing isn't available now.\n",
      "So `number_workers` is changed to 0 to avoid getting stuck\n",
      "Due to IPython and Windows limitation, python multiprocessing isn't available now.\n",
      "So `number_workers` is changed to 0 to avoid getting stuck\n",
      "Due to IPython and Windows limitation, python multiprocessing isn't available now.\n",
      "So `number_workers` is changed to 0 to avoid getting stuck\n",
      "Due to IPython and Windows limitation, python multiprocessing isn't available now.\n",
      "So `number_workers` is changed to 0 to avoid getting stuck\n",
      "Due to IPython and Windows limitation, python multiprocessing isn't available now.\n",
      "So `number_workers` is changed to 0 to avoid getting stuck\n",
      "Due to IPython and Windows limitation, python multiprocessing isn't available now.\n",
      "So `number_workers` is changed to 0 to avoid getting stuck\n",
      "Due to IPython and Windows limitation, python multiprocessing isn't available now.\n",
      "So `number_workers` is changed to 0 to avoid getting stuck\n",
      "Due to IPython and Windows limitation, python multiprocessing isn't available now.\n",
      "So `number_workers` is changed to 0 to avoid getting stuck\n",
      "Due to IPython and Windows limitation, python multiprocessing isn't available now.\n",
      "So `number_workers` is changed to 0 to avoid getting stuck\n"
     ]
    },
    {
     "name": "stderr",
     "output_type": "stream",
     "text": [
      "D:\\Anaconda3\\envs\\fastai2022\\lib\\site-packages\\ipykernel_launcher.py:68: RuntimeWarning: More than 20 figures have been opened. Figures created through the pyplot interface (`matplotlib.pyplot.figure`) are retained until explicitly closed and may consume too much memory. (To control this warning, see the rcParam `figure.max_open_warning`).\n"
     ]
    },
    {
     "name": "stdout",
     "output_type": "stream",
     "text": [
      "Due to IPython and Windows limitation, python multiprocessing isn't available now.\n",
      "So `number_workers` is changed to 0 to avoid getting stuck\n",
      "Due to IPython and Windows limitation, python multiprocessing isn't available now.\n",
      "So `number_workers` is changed to 0 to avoid getting stuck\n",
      "Due to IPython and Windows limitation, python multiprocessing isn't available now.\n",
      "So `number_workers` is changed to 0 to avoid getting stuck\n",
      "Due to IPython and Windows limitation, python multiprocessing isn't available now.\n",
      "So `number_workers` is changed to 0 to avoid getting stuck\n",
      "Better model found at epoch 4 with dice_coeff_foreground value: 0.69181227684021.\n",
      "Due to IPython and Windows limitation, python multiprocessing isn't available now.\n",
      "So `number_workers` is changed to 0 to avoid getting stuck\n",
      "Due to IPython and Windows limitation, python multiprocessing isn't available now.\n",
      "So `number_workers` is changed to 0 to avoid getting stuck\n",
      "Due to IPython and Windows limitation, python multiprocessing isn't available now.\n",
      "So `number_workers` is changed to 0 to avoid getting stuck\n",
      "Due to IPython and Windows limitation, python multiprocessing isn't available now.\n",
      "So `number_workers` is changed to 0 to avoid getting stuck\n",
      "Due to IPython and Windows limitation, python multiprocessing isn't available now.\n",
      "So `number_workers` is changed to 0 to avoid getting stuck\n",
      "Due to IPython and Windows limitation, python multiprocessing isn't available now.\n",
      "So `number_workers` is changed to 0 to avoid getting stuck\n",
      "Due to IPython and Windows limitation, python multiprocessing isn't available now.\n",
      "So `number_workers` is changed to 0 to avoid getting stuck\n",
      "Due to IPython and Windows limitation, python multiprocessing isn't available now.\n",
      "So `number_workers` is changed to 0 to avoid getting stuck\n",
      "Due to IPython and Windows limitation, python multiprocessing isn't available now.\n",
      "So `number_workers` is changed to 0 to avoid getting stuck\n",
      "Due to IPython and Windows limitation, python multiprocessing isn't available now.\n",
      "So `number_workers` is changed to 0 to avoid getting stuck\n",
      "Better model found at epoch 6 with dice_coeff_foreground value: 0.7364771366119385.\n"
     ]
    },
    {
     "data": {
      "text/plain": [
       "<Figure size 1440x1440 with 0 Axes>"
      ]
     },
     "metadata": {},
     "output_type": "display_data"
    },
    {
     "data": {
      "text/plain": [
       "<Figure size 1440x1440 with 0 Axes>"
      ]
     },
     "metadata": {},
     "output_type": "display_data"
    },
    {
     "data": {
      "text/plain": [
       "<Figure size 1440x1440 with 0 Axes>"
      ]
     },
     "metadata": {},
     "output_type": "display_data"
    },
    {
     "data": {
      "text/plain": [
       "<Figure size 1440x1440 with 0 Axes>"
      ]
     },
     "metadata": {},
     "output_type": "display_data"
    },
    {
     "data": {
      "text/plain": [
       "<Figure size 1440x1440 with 0 Axes>"
      ]
     },
     "metadata": {},
     "output_type": "display_data"
    },
    {
     "data": {
      "text/plain": [
       "<Figure size 1440x1440 with 0 Axes>"
      ]
     },
     "metadata": {},
     "output_type": "display_data"
    },
    {
     "data": {
      "text/plain": [
       "<Figure size 1440x1440 with 0 Axes>"
      ]
     },
     "metadata": {},
     "output_type": "display_data"
    },
    {
     "data": {
      "text/plain": [
       "<Figure size 1440x1440 with 0 Axes>"
      ]
     },
     "metadata": {},
     "output_type": "display_data"
    },
    {
     "data": {
      "text/plain": [
       "<Figure size 1440x1440 with 0 Axes>"
      ]
     },
     "metadata": {},
     "output_type": "display_data"
    },
    {
     "data": {
      "text/plain": [
       "<Figure size 1440x1440 with 0 Axes>"
      ]
     },
     "metadata": {},
     "output_type": "display_data"
    },
    {
     "data": {
      "text/plain": [
       "<Figure size 1440x1440 with 0 Axes>"
      ]
     },
     "metadata": {},
     "output_type": "display_data"
    },
    {
     "data": {
      "text/plain": [
       "<Figure size 1440x1440 with 0 Axes>"
      ]
     },
     "metadata": {},
     "output_type": "display_data"
    },
    {
     "data": {
      "text/plain": [
       "<Figure size 1440x1440 with 0 Axes>"
      ]
     },
     "metadata": {},
     "output_type": "display_data"
    },
    {
     "data": {
      "text/plain": [
       "<Figure size 1440x1440 with 0 Axes>"
      ]
     },
     "metadata": {},
     "output_type": "display_data"
    },
    {
     "data": {
      "text/plain": [
       "<Figure size 1440x1440 with 0 Axes>"
      ]
     },
     "metadata": {},
     "output_type": "display_data"
    },
    {
     "data": {
      "text/plain": [
       "<Figure size 1440x1440 with 0 Axes>"
      ]
     },
     "metadata": {},
     "output_type": "display_data"
    },
    {
     "data": {
      "text/plain": [
       "<Figure size 1440x1440 with 0 Axes>"
      ]
     },
     "metadata": {},
     "output_type": "display_data"
    },
    {
     "data": {
      "text/plain": [
       "<Figure size 1440x1440 with 0 Axes>"
      ]
     },
     "metadata": {},
     "output_type": "display_data"
    },
    {
     "data": {
      "text/plain": [
       "<Figure size 1440x1440 with 0 Axes>"
      ]
     },
     "metadata": {},
     "output_type": "display_data"
    },
    {
     "data": {
      "text/plain": [
       "<Figure size 1440x1440 with 0 Axes>"
      ]
     },
     "metadata": {},
     "output_type": "display_data"
    },
    {
     "data": {
      "text/plain": [
       "<Figure size 1440x1440 with 0 Axes>"
      ]
     },
     "metadata": {},
     "output_type": "display_data"
    },
    {
     "data": {
      "text/plain": [
       "<Figure size 1440x1440 with 0 Axes>"
      ]
     },
     "metadata": {},
     "output_type": "display_data"
    },
    {
     "data": {
      "text/plain": [
       "<Figure size 1440x1440 with 0 Axes>"
      ]
     },
     "metadata": {},
     "output_type": "display_data"
    },
    {
     "data": {
      "text/plain": [
       "<Figure size 1440x1440 with 0 Axes>"
      ]
     },
     "metadata": {},
     "output_type": "display_data"
    },
    {
     "data": {
      "text/plain": [
       "<Figure size 1440x1440 with 0 Axes>"
      ]
     },
     "metadata": {},
     "output_type": "display_data"
    },
    {
     "data": {
      "text/plain": [
       "<Figure size 1440x1440 with 0 Axes>"
      ]
     },
     "metadata": {},
     "output_type": "display_data"
    },
    {
     "data": {
      "text/plain": [
       "<Figure size 1440x1440 with 0 Axes>"
      ]
     },
     "metadata": {},
     "output_type": "display_data"
    },
    {
     "data": {
      "text/plain": [
       "<Figure size 1440x1440 with 0 Axes>"
      ]
     },
     "metadata": {},
     "output_type": "display_data"
    },
    {
     "data": {
      "text/plain": [
       "<Figure size 1440x1440 with 0 Axes>"
      ]
     },
     "metadata": {},
     "output_type": "display_data"
    },
    {
     "data": {
      "text/plain": [
       "<Figure size 1440x1440 with 0 Axes>"
      ]
     },
     "metadata": {},
     "output_type": "display_data"
    },
    {
     "data": {
      "text/plain": [
       "<Figure size 1440x1440 with 0 Axes>"
      ]
     },
     "metadata": {},
     "output_type": "display_data"
    },
    {
     "data": {
      "text/plain": [
       "<Figure size 1440x1440 with 0 Axes>"
      ]
     },
     "metadata": {},
     "output_type": "display_data"
    },
    {
     "data": {
      "text/plain": [
       "<Figure size 1440x1440 with 0 Axes>"
      ]
     },
     "metadata": {},
     "output_type": "display_data"
    },
    {
     "data": {
      "text/plain": [
       "<Figure size 1440x1440 with 0 Axes>"
      ]
     },
     "metadata": {},
     "output_type": "display_data"
    },
    {
     "data": {
      "text/plain": [
       "<Figure size 1440x1440 with 0 Axes>"
      ]
     },
     "metadata": {},
     "output_type": "display_data"
    }
   ],
   "source": [
    "learn_fastai.fit(7)"
   ]
  },
  {
   "cell_type": "markdown",
   "id": "5d1a24dd-39e4-44b9-9f8b-3d3f5afdaf61",
   "metadata": {},
   "source": [
    "### Save Model and Learner"
   ]
  },
  {
   "cell_type": "code",
   "execution_count": 79,
   "id": "7f68ab16-5517-4305-8b59-37362f44445f",
   "metadata": {},
   "outputs": [],
   "source": [
    "import datetime\n",
    "\n",
    "def save_learner(learner,learner_filename='learner',save_pytorch_model=True):\n",
    "    \"\"\"save Fatsai learner,optionally with model in pytorch format with state dict\"\"\"\n",
    "    ## root folder for all model wts/learner object saves (fastai creates this by default)\n",
    "   \n",
    "    ## save in subfolders indexed by savetime\n",
    "    date,time='{}'.format(datetime.datetime.now()).split(' ')\n",
    "    ## swap : with _\n",
    "    time='_'.join(time.split(':'))\n",
    "    date_time='_'.join([date,time])\n",
    "    subfolder=Path('models')/Path(date_time)\n",
    "    \n",
    "    \n",
    "   \n",
    "    subfolder.mkdir(exist_ok=True)\n",
    "    \n",
    "    \n",
    "    ## give a descriptive learner_filename. Ideally with train config (wandb.config) used to train\n",
    "    \n",
    "    model_filename=Path('_'.join([learner_filename,'model.pt']))\n",
    "    learner_filename=Path(learner_filename)\n",
    "    learner_path,model_path=[Path(date_time)/filename for filename in [learner_filename,model_filename]]\n",
    "    \n",
    "    ## saving learner for inference\n",
    "    learner.save(file= learner_path)\n",
    "    ## saving model (Ws and bs) the state dict with ley variable names and values tensors (params)\n",
    "    if save_pytorch_model:\n",
    "        torch.save(learner.model.state_dict(),Path('models')/model_path)\n",
    "        \n",
    "    return Path('models')/learner_path,Path('models')/model_path\n",
    "        \n",
    "    \n",
    "    "
   ]
  },
  {
   "cell_type": "code",
   "execution_count": 80,
   "id": "281dd784-dabc-4fde-8497-640c7fc1024b",
   "metadata": {},
   "outputs": [
    {
     "data": {
      "text/plain": [
       "(Path('models/2022-09-11_14_19_16.157819/learner'),\n",
       " Path('models/2022-09-11_14_19_16.157819/learner_model.pt'))"
      ]
     },
     "execution_count": 80,
     "metadata": {},
     "output_type": "execute_result"
    }
   ],
   "source": [
    "save_learner(learn_fastai)"
   ]
  },
  {
   "cell_type": "markdown",
   "id": "3e8ecaee-0d44-43d0-9aa4-ef44e41a86cc",
   "metadata": {},
   "source": [
    "### USING CUSTOM LEARNER CLASS"
   ]
  },
  {
   "cell_type": "code",
   "execution_count": null,
   "id": "b91b96fd-a37f-4be0-8092-66c920bcdacf",
   "metadata": {
    "jupyter": {
     "source_hidden": true
    },
    "tags": []
   },
   "outputs": [],
   "source": [
    "def log_metric(self):\n",
    "    if(self.iter%50==0):\n",
    "        dice=dice_coeff_foreground(self.model(self.xb),self.yb)\n",
    "        wandb.log(dice)"
   ]
  },
  {
   "cell_type": "code",
   "execution_count": 233,
   "id": "409e8703-fe56-4571-874c-23b771c156eb",
   "metadata": {
    "tags": []
   },
   "outputs": [],
   "source": [
    "model=create_unet_model(resnet34,n_out=4,n_in=1,img_size=(224,224))\n",
    "learn=PyTorchLearner(model=model,dls=dls,optim_class=Adam,lr=4e-4,loss_function=focal_loss,device='cuda',\n",
    "                     metrics=metrics)"
   ]
  },
  {
   "cell_type": "code",
   "execution_count": 18,
   "id": "6f971cdd-673e-468c-a1b6-a679a5cf0b45",
   "metadata": {
    "tags": []
   },
   "outputs": [
    {
     "data": {
      "application/vnd.jupyter.widget-view+json": {
       "model_id": "133ad9a8f0fc484e87cec63503d402e0",
       "version_major": 2,
       "version_minor": 0
      },
      "text/plain": [
       "  0%|          | 0/5 [00:00<?, ?it/s]"
      ]
     },
     "metadata": {},
     "output_type": "display_data"
    },
    {
     "data": {
      "application/vnd.jupyter.widget-view+json": {
       "model_id": "41eb7871d3414449a1b5c691c4db06ac",
       "version_major": 2,
       "version_minor": 0
      },
      "text/plain": [
       "  0%|          | 0/135 [00:00<?, ?it/s]"
      ]
     },
     "metadata": {},
     "output_type": "display_data"
    },
    {
     "data": {
      "application/vnd.jupyter.widget-view+json": {
       "model_id": "f63ed6fd3c66432c8d1dcd1c2fd78cbe",
       "version_major": 2,
       "version_minor": 0
      },
      "text/plain": [
       "  0%|          | 0/34 [00:00<?, ?it/s]"
      ]
     },
     "metadata": {},
     "output_type": "display_data"
    },
    {
     "data": {
      "text/html": [
       "<div>\n",
       "<style scoped>\n",
       "    .dataframe tbody tr th:only-of-type {\n",
       "        vertical-align: middle;\n",
       "    }\n",
       "\n",
       "    .dataframe tbody tr th {\n",
       "        vertical-align: top;\n",
       "    }\n",
       "\n",
       "    .dataframe thead th {\n",
       "        text-align: right;\n",
       "    }\n",
       "</style>\n",
       "<table border=\"1\" class=\"dataframe\">\n",
       "  <thead>\n",
       "    <tr style=\"text-align: right;\">\n",
       "      <th></th>\n",
       "      <th>epoch</th>\n",
       "      <th>train_loss</th>\n",
       "      <th>eval_loss</th>\n",
       "      <th>dice_coeff</th>\n",
       "      <th>pixel_accuracy</th>\n",
       "      <th>cross_entropy</th>\n",
       "      <th>background</th>\n",
       "      <th>small_bowel</th>\n",
       "      <th>large_bowel</th>\n",
       "      <th>stomach</th>\n",
       "    </tr>\n",
       "  </thead>\n",
       "  <tbody>\n",
       "    <tr>\n",
       "      <th>0</th>\n",
       "      <td>0</td>\n",
       "      <td>7.373728</td>\n",
       "      <td>0.393545</td>\n",
       "      <td>0.295359</td>\n",
       "      <td>0.964124</td>\n",
       "      <td>0.458556</td>\n",
       "      <td>0.9971</td>\n",
       "      <td>0.0625</td>\n",
       "      <td>0.025914</td>\n",
       "      <td>0.033049</td>\n",
       "    </tr>\n",
       "  </tbody>\n",
       "</table>\n",
       "</div>"
      ],
      "text/plain": [
       "   epoch  train_loss  eval_loss  dice_coeff  pixel_accuracy  cross_entropy  \\\n",
       "0      0    7.373728   0.393545    0.295359        0.964124       0.458556   \n",
       "\n",
       "   background  small_bowel  large_bowel   stomach  \n",
       "0      0.9971       0.0625     0.025914  0.033049  "
      ]
     },
     "metadata": {},
     "output_type": "display_data"
    },
    {
     "data": {
      "application/vnd.jupyter.widget-view+json": {
       "model_id": "c9650495efc84dc18ea1fb1fb56bde16",
       "version_major": 2,
       "version_minor": 0
      },
      "text/plain": [
       "  0%|          | 0/135 [00:00<?, ?it/s]"
      ]
     },
     "metadata": {},
     "output_type": "display_data"
    },
    {
     "data": {
      "application/vnd.jupyter.widget-view+json": {
       "model_id": "77a3d23267fa4bae82e1178602db59c8",
       "version_major": 2,
       "version_minor": 0
      },
      "text/plain": [
       "  0%|          | 0/34 [00:00<?, ?it/s]"
      ]
     },
     "metadata": {},
     "output_type": "display_data"
    },
    {
     "data": {
      "text/html": [
       "<div>\n",
       "<style scoped>\n",
       "    .dataframe tbody tr th:only-of-type {\n",
       "        vertical-align: middle;\n",
       "    }\n",
       "\n",
       "    .dataframe tbody tr th {\n",
       "        vertical-align: top;\n",
       "    }\n",
       "\n",
       "    .dataframe thead th {\n",
       "        text-align: right;\n",
       "    }\n",
       "</style>\n",
       "<table border=\"1\" class=\"dataframe\">\n",
       "  <thead>\n",
       "    <tr style=\"text-align: right;\">\n",
       "      <th></th>\n",
       "      <th>epoch</th>\n",
       "      <th>train_loss</th>\n",
       "      <th>eval_loss</th>\n",
       "      <th>dice_coeff</th>\n",
       "      <th>pixel_accuracy</th>\n",
       "      <th>cross_entropy</th>\n",
       "      <th>background</th>\n",
       "      <th>small_bowel</th>\n",
       "      <th>large_bowel</th>\n",
       "      <th>stomach</th>\n",
       "    </tr>\n",
       "  </thead>\n",
       "  <tbody>\n",
       "    <tr>\n",
       "      <th>0</th>\n",
       "      <td>0</td>\n",
       "      <td>7.373728</td>\n",
       "      <td>0.393545</td>\n",
       "      <td>0.295359</td>\n",
       "      <td>0.964124</td>\n",
       "      <td>0.458556</td>\n",
       "      <td>0.997100</td>\n",
       "      <td>0.062500</td>\n",
       "      <td>0.025914</td>\n",
       "      <td>0.033049</td>\n",
       "    </tr>\n",
       "    <tr>\n",
       "      <th>1</th>\n",
       "      <td>1</td>\n",
       "      <td>0.272448</td>\n",
       "      <td>0.365715</td>\n",
       "      <td>0.347332</td>\n",
       "      <td>0.949216</td>\n",
       "      <td>0.431368</td>\n",
       "      <td>0.975157</td>\n",
       "      <td>0.220414</td>\n",
       "      <td>0.444955</td>\n",
       "      <td>0.000178</td>\n",
       "    </tr>\n",
       "  </tbody>\n",
       "</table>\n",
       "</div>"
      ],
      "text/plain": [
       "   epoch  train_loss  eval_loss  dice_coeff  pixel_accuracy  cross_entropy  \\\n",
       "0      0    7.373728   0.393545    0.295359        0.964124       0.458556   \n",
       "1      1    0.272448   0.365715    0.347332        0.949216       0.431368   \n",
       "\n",
       "   background  small_bowel  large_bowel   stomach  \n",
       "0    0.997100     0.062500     0.025914  0.033049  \n",
       "1    0.975157     0.220414     0.444955  0.000178  "
      ]
     },
     "metadata": {},
     "output_type": "display_data"
    },
    {
     "data": {
      "application/vnd.jupyter.widget-view+json": {
       "model_id": "fb29c80dff864f5d8d7d5a9c32af7109",
       "version_major": 2,
       "version_minor": 0
      },
      "text/plain": [
       "  0%|          | 0/135 [00:00<?, ?it/s]"
      ]
     },
     "metadata": {},
     "output_type": "display_data"
    },
    {
     "data": {
      "application/vnd.jupyter.widget-view+json": {
       "model_id": "e1de54ac7b2c41629bd907e5db5ddc1a",
       "version_major": 2,
       "version_minor": 0
      },
      "text/plain": [
       "  0%|          | 0/34 [00:00<?, ?it/s]"
      ]
     },
     "metadata": {},
     "output_type": "display_data"
    },
    {
     "data": {
      "text/html": [
       "<div>\n",
       "<style scoped>\n",
       "    .dataframe tbody tr th:only-of-type {\n",
       "        vertical-align: middle;\n",
       "    }\n",
       "\n",
       "    .dataframe tbody tr th {\n",
       "        vertical-align: top;\n",
       "    }\n",
       "\n",
       "    .dataframe thead th {\n",
       "        text-align: right;\n",
       "    }\n",
       "</style>\n",
       "<table border=\"1\" class=\"dataframe\">\n",
       "  <thead>\n",
       "    <tr style=\"text-align: right;\">\n",
       "      <th></th>\n",
       "      <th>epoch</th>\n",
       "      <th>train_loss</th>\n",
       "      <th>eval_loss</th>\n",
       "      <th>dice_coeff</th>\n",
       "      <th>pixel_accuracy</th>\n",
       "      <th>cross_entropy</th>\n",
       "      <th>background</th>\n",
       "      <th>small_bowel</th>\n",
       "      <th>large_bowel</th>\n",
       "      <th>stomach</th>\n",
       "    </tr>\n",
       "  </thead>\n",
       "  <tbody>\n",
       "    <tr>\n",
       "      <th>0</th>\n",
       "      <td>0</td>\n",
       "      <td>7.373728</td>\n",
       "      <td>0.393545</td>\n",
       "      <td>0.295359</td>\n",
       "      <td>0.964124</td>\n",
       "      <td>0.458556</td>\n",
       "      <td>0.997100</td>\n",
       "      <td>0.062500</td>\n",
       "      <td>0.025914</td>\n",
       "      <td>0.033049</td>\n",
       "    </tr>\n",
       "    <tr>\n",
       "      <th>1</th>\n",
       "      <td>1</td>\n",
       "      <td>0.272448</td>\n",
       "      <td>0.365715</td>\n",
       "      <td>0.347332</td>\n",
       "      <td>0.949216</td>\n",
       "      <td>0.431368</td>\n",
       "      <td>0.975157</td>\n",
       "      <td>0.220414</td>\n",
       "      <td>0.444955</td>\n",
       "      <td>0.000178</td>\n",
       "    </tr>\n",
       "    <tr>\n",
       "      <th>2</th>\n",
       "      <td>2</td>\n",
       "      <td>0.321527</td>\n",
       "      <td>0.246099</td>\n",
       "      <td>0.403714</td>\n",
       "      <td>0.968648</td>\n",
       "      <td>0.290623</td>\n",
       "      <td>0.996517</td>\n",
       "      <td>0.376479</td>\n",
       "      <td>0.278258</td>\n",
       "      <td>0.001066</td>\n",
       "    </tr>\n",
       "  </tbody>\n",
       "</table>\n",
       "</div>"
      ],
      "text/plain": [
       "   epoch  train_loss  eval_loss  dice_coeff  pixel_accuracy  cross_entropy  \\\n",
       "0      0    7.373728   0.393545    0.295359        0.964124       0.458556   \n",
       "1      1    0.272448   0.365715    0.347332        0.949216       0.431368   \n",
       "2      2    0.321527   0.246099    0.403714        0.968648       0.290623   \n",
       "\n",
       "   background  small_bowel  large_bowel   stomach  \n",
       "0    0.997100     0.062500     0.025914  0.033049  \n",
       "1    0.975157     0.220414     0.444955  0.000178  \n",
       "2    0.996517     0.376479     0.278258  0.001066  "
      ]
     },
     "metadata": {},
     "output_type": "display_data"
    },
    {
     "data": {
      "application/vnd.jupyter.widget-view+json": {
       "model_id": "42a9bca822374fb388a2b189f40933aa",
       "version_major": 2,
       "version_minor": 0
      },
      "text/plain": [
       "  0%|          | 0/135 [00:00<?, ?it/s]"
      ]
     },
     "metadata": {},
     "output_type": "display_data"
    },
    {
     "data": {
      "application/vnd.jupyter.widget-view+json": {
       "model_id": "0d278286d2434a39b2c5cf41c3f9eb60",
       "version_major": 2,
       "version_minor": 0
      },
      "text/plain": [
       "  0%|          | 0/34 [00:00<?, ?it/s]"
      ]
     },
     "metadata": {},
     "output_type": "display_data"
    },
    {
     "data": {
      "text/html": [
       "<div>\n",
       "<style scoped>\n",
       "    .dataframe tbody tr th:only-of-type {\n",
       "        vertical-align: middle;\n",
       "    }\n",
       "\n",
       "    .dataframe tbody tr th {\n",
       "        vertical-align: top;\n",
       "    }\n",
       "\n",
       "    .dataframe thead th {\n",
       "        text-align: right;\n",
       "    }\n",
       "</style>\n",
       "<table border=\"1\" class=\"dataframe\">\n",
       "  <thead>\n",
       "    <tr style=\"text-align: right;\">\n",
       "      <th></th>\n",
       "      <th>epoch</th>\n",
       "      <th>train_loss</th>\n",
       "      <th>eval_loss</th>\n",
       "      <th>dice_coeff</th>\n",
       "      <th>pixel_accuracy</th>\n",
       "      <th>cross_entropy</th>\n",
       "      <th>background</th>\n",
       "      <th>small_bowel</th>\n",
       "      <th>large_bowel</th>\n",
       "      <th>stomach</th>\n",
       "    </tr>\n",
       "  </thead>\n",
       "  <tbody>\n",
       "    <tr>\n",
       "      <th>0</th>\n",
       "      <td>0</td>\n",
       "      <td>7.373728</td>\n",
       "      <td>0.393545</td>\n",
       "      <td>0.295359</td>\n",
       "      <td>0.964124</td>\n",
       "      <td>0.458556</td>\n",
       "      <td>0.997100</td>\n",
       "      <td>0.062500</td>\n",
       "      <td>0.025914</td>\n",
       "      <td>0.033049</td>\n",
       "    </tr>\n",
       "    <tr>\n",
       "      <th>1</th>\n",
       "      <td>1</td>\n",
       "      <td>0.272448</td>\n",
       "      <td>0.365715</td>\n",
       "      <td>0.347332</td>\n",
       "      <td>0.949216</td>\n",
       "      <td>0.431368</td>\n",
       "      <td>0.975157</td>\n",
       "      <td>0.220414</td>\n",
       "      <td>0.444955</td>\n",
       "      <td>0.000178</td>\n",
       "    </tr>\n",
       "    <tr>\n",
       "      <th>2</th>\n",
       "      <td>2</td>\n",
       "      <td>0.321527</td>\n",
       "      <td>0.246099</td>\n",
       "      <td>0.403714</td>\n",
       "      <td>0.968648</td>\n",
       "      <td>0.290623</td>\n",
       "      <td>0.996517</td>\n",
       "      <td>0.376479</td>\n",
       "      <td>0.278258</td>\n",
       "      <td>0.001066</td>\n",
       "    </tr>\n",
       "    <tr>\n",
       "      <th>3</th>\n",
       "      <td>3</td>\n",
       "      <td>0.161435</td>\n",
       "      <td>0.142907</td>\n",
       "      <td>0.451696</td>\n",
       "      <td>0.965970</td>\n",
       "      <td>0.182525</td>\n",
       "      <td>0.991311</td>\n",
       "      <td>0.389053</td>\n",
       "      <td>0.225878</td>\n",
       "      <td>0.213220</td>\n",
       "    </tr>\n",
       "  </tbody>\n",
       "</table>\n",
       "</div>"
      ],
      "text/plain": [
       "   epoch  train_loss  eval_loss  dice_coeff  pixel_accuracy  cross_entropy  \\\n",
       "0      0    7.373728   0.393545    0.295359        0.964124       0.458556   \n",
       "1      1    0.272448   0.365715    0.347332        0.949216       0.431368   \n",
       "2      2    0.321527   0.246099    0.403714        0.968648       0.290623   \n",
       "3      3    0.161435   0.142907    0.451696        0.965970       0.182525   \n",
       "\n",
       "   background  small_bowel  large_bowel   stomach  \n",
       "0    0.997100     0.062500     0.025914  0.033049  \n",
       "1    0.975157     0.220414     0.444955  0.000178  \n",
       "2    0.996517     0.376479     0.278258  0.001066  \n",
       "3    0.991311     0.389053     0.225878  0.213220  "
      ]
     },
     "metadata": {},
     "output_type": "display_data"
    },
    {
     "data": {
      "application/vnd.jupyter.widget-view+json": {
       "model_id": "802bd2cf1e644dceba345c461d8ae8c8",
       "version_major": 2,
       "version_minor": 0
      },
      "text/plain": [
       "  0%|          | 0/135 [00:00<?, ?it/s]"
      ]
     },
     "metadata": {},
     "output_type": "display_data"
    },
    {
     "data": {
      "application/vnd.jupyter.widget-view+json": {
       "model_id": "a0878865d54e45349d87b0613fca3ac4",
       "version_major": 2,
       "version_minor": 0
      },
      "text/plain": [
       "  0%|          | 0/34 [00:00<?, ?it/s]"
      ]
     },
     "metadata": {},
     "output_type": "display_data"
    },
    {
     "data": {
      "text/html": [
       "<div>\n",
       "<style scoped>\n",
       "    .dataframe tbody tr th:only-of-type {\n",
       "        vertical-align: middle;\n",
       "    }\n",
       "\n",
       "    .dataframe tbody tr th {\n",
       "        vertical-align: top;\n",
       "    }\n",
       "\n",
       "    .dataframe thead th {\n",
       "        text-align: right;\n",
       "    }\n",
       "</style>\n",
       "<table border=\"1\" class=\"dataframe\">\n",
       "  <thead>\n",
       "    <tr style=\"text-align: right;\">\n",
       "      <th></th>\n",
       "      <th>epoch</th>\n",
       "      <th>train_loss</th>\n",
       "      <th>eval_loss</th>\n",
       "      <th>dice_coeff</th>\n",
       "      <th>pixel_accuracy</th>\n",
       "      <th>cross_entropy</th>\n",
       "      <th>background</th>\n",
       "      <th>small_bowel</th>\n",
       "      <th>large_bowel</th>\n",
       "      <th>stomach</th>\n",
       "    </tr>\n",
       "  </thead>\n",
       "  <tbody>\n",
       "    <tr>\n",
       "      <th>0</th>\n",
       "      <td>0</td>\n",
       "      <td>7.373728</td>\n",
       "      <td>0.393545</td>\n",
       "      <td>0.295359</td>\n",
       "      <td>0.964124</td>\n",
       "      <td>0.458556</td>\n",
       "      <td>0.997100</td>\n",
       "      <td>0.062500</td>\n",
       "      <td>0.025914</td>\n",
       "      <td>0.033049</td>\n",
       "    </tr>\n",
       "    <tr>\n",
       "      <th>1</th>\n",
       "      <td>1</td>\n",
       "      <td>0.272448</td>\n",
       "      <td>0.365715</td>\n",
       "      <td>0.347332</td>\n",
       "      <td>0.949216</td>\n",
       "      <td>0.431368</td>\n",
       "      <td>0.975157</td>\n",
       "      <td>0.220414</td>\n",
       "      <td>0.444955</td>\n",
       "      <td>0.000178</td>\n",
       "    </tr>\n",
       "    <tr>\n",
       "      <th>2</th>\n",
       "      <td>2</td>\n",
       "      <td>0.321527</td>\n",
       "      <td>0.246099</td>\n",
       "      <td>0.403714</td>\n",
       "      <td>0.968648</td>\n",
       "      <td>0.290623</td>\n",
       "      <td>0.996517</td>\n",
       "      <td>0.376479</td>\n",
       "      <td>0.278258</td>\n",
       "      <td>0.001066</td>\n",
       "    </tr>\n",
       "    <tr>\n",
       "      <th>3</th>\n",
       "      <td>3</td>\n",
       "      <td>0.161435</td>\n",
       "      <td>0.142907</td>\n",
       "      <td>0.451696</td>\n",
       "      <td>0.965970</td>\n",
       "      <td>0.182525</td>\n",
       "      <td>0.991311</td>\n",
       "      <td>0.389053</td>\n",
       "      <td>0.225878</td>\n",
       "      <td>0.213220</td>\n",
       "    </tr>\n",
       "    <tr>\n",
       "      <th>4</th>\n",
       "      <td>4</td>\n",
       "      <td>0.139929</td>\n",
       "      <td>0.073146</td>\n",
       "      <td>0.495830</td>\n",
       "      <td>0.972352</td>\n",
       "      <td>0.122635</td>\n",
       "      <td>0.994196</td>\n",
       "      <td>0.331731</td>\n",
       "      <td>0.630950</td>\n",
       "      <td>0.105721</td>\n",
       "    </tr>\n",
       "  </tbody>\n",
       "</table>\n",
       "</div>"
      ],
      "text/plain": [
       "   epoch  train_loss  eval_loss  dice_coeff  pixel_accuracy  cross_entropy  \\\n",
       "0      0    7.373728   0.393545    0.295359        0.964124       0.458556   \n",
       "1      1    0.272448   0.365715    0.347332        0.949216       0.431368   \n",
       "2      2    0.321527   0.246099    0.403714        0.968648       0.290623   \n",
       "3      3    0.161435   0.142907    0.451696        0.965970       0.182525   \n",
       "4      4    0.139929   0.073146    0.495830        0.972352       0.122635   \n",
       "\n",
       "   background  small_bowel  large_bowel   stomach  \n",
       "0    0.997100     0.062500     0.025914  0.033049  \n",
       "1    0.975157     0.220414     0.444955  0.000178  \n",
       "2    0.996517     0.376479     0.278258  0.001066  \n",
       "3    0.991311     0.389053     0.225878  0.213220  \n",
       "4    0.994196     0.331731     0.630950  0.105721  "
      ]
     },
     "metadata": {},
     "output_type": "display_data"
    },
    {
     "data": {
      "text/html": [
       "<div>\n",
       "<style scoped>\n",
       "    .dataframe tbody tr th:only-of-type {\n",
       "        vertical-align: middle;\n",
       "    }\n",
       "\n",
       "    .dataframe tbody tr th {\n",
       "        vertical-align: top;\n",
       "    }\n",
       "\n",
       "    .dataframe thead th {\n",
       "        text-align: right;\n",
       "    }\n",
       "</style>\n",
       "<table border=\"1\" class=\"dataframe\">\n",
       "  <thead>\n",
       "    <tr style=\"text-align: right;\">\n",
       "      <th></th>\n",
       "      <th>epoch</th>\n",
       "      <th>train_loss</th>\n",
       "      <th>eval_loss</th>\n",
       "      <th>dice_coeff</th>\n",
       "      <th>pixel_accuracy</th>\n",
       "      <th>cross_entropy</th>\n",
       "      <th>background</th>\n",
       "      <th>small_bowel</th>\n",
       "      <th>large_bowel</th>\n",
       "      <th>stomach</th>\n",
       "    </tr>\n",
       "  </thead>\n",
       "  <tbody>\n",
       "    <tr>\n",
       "      <th>0</th>\n",
       "      <td>0</td>\n",
       "      <td>7.373728</td>\n",
       "      <td>0.393545</td>\n",
       "      <td>0.295359</td>\n",
       "      <td>0.964124</td>\n",
       "      <td>0.458556</td>\n",
       "      <td>0.997100</td>\n",
       "      <td>0.062500</td>\n",
       "      <td>0.025914</td>\n",
       "      <td>0.033049</td>\n",
       "    </tr>\n",
       "    <tr>\n",
       "      <th>1</th>\n",
       "      <td>1</td>\n",
       "      <td>0.272448</td>\n",
       "      <td>0.365715</td>\n",
       "      <td>0.347332</td>\n",
       "      <td>0.949216</td>\n",
       "      <td>0.431368</td>\n",
       "      <td>0.975157</td>\n",
       "      <td>0.220414</td>\n",
       "      <td>0.444955</td>\n",
       "      <td>0.000178</td>\n",
       "    </tr>\n",
       "    <tr>\n",
       "      <th>2</th>\n",
       "      <td>2</td>\n",
       "      <td>0.321527</td>\n",
       "      <td>0.246099</td>\n",
       "      <td>0.403714</td>\n",
       "      <td>0.968648</td>\n",
       "      <td>0.290623</td>\n",
       "      <td>0.996517</td>\n",
       "      <td>0.376479</td>\n",
       "      <td>0.278258</td>\n",
       "      <td>0.001066</td>\n",
       "    </tr>\n",
       "    <tr>\n",
       "      <th>3</th>\n",
       "      <td>3</td>\n",
       "      <td>0.161435</td>\n",
       "      <td>0.142907</td>\n",
       "      <td>0.451696</td>\n",
       "      <td>0.965970</td>\n",
       "      <td>0.182525</td>\n",
       "      <td>0.991311</td>\n",
       "      <td>0.389053</td>\n",
       "      <td>0.225878</td>\n",
       "      <td>0.213220</td>\n",
       "    </tr>\n",
       "    <tr>\n",
       "      <th>4</th>\n",
       "      <td>4</td>\n",
       "      <td>0.139929</td>\n",
       "      <td>0.073146</td>\n",
       "      <td>0.495830</td>\n",
       "      <td>0.972352</td>\n",
       "      <td>0.122635</td>\n",
       "      <td>0.994196</td>\n",
       "      <td>0.331731</td>\n",
       "      <td>0.630950</td>\n",
       "      <td>0.105721</td>\n",
       "    </tr>\n",
       "  </tbody>\n",
       "</table>\n",
       "</div>"
      ],
      "text/plain": [
       "   epoch  train_loss  eval_loss  dice_coeff  pixel_accuracy  cross_entropy  \\\n",
       "0      0    7.373728   0.393545    0.295359        0.964124       0.458556   \n",
       "1      1    0.272448   0.365715    0.347332        0.949216       0.431368   \n",
       "2      2    0.321527   0.246099    0.403714        0.968648       0.290623   \n",
       "3      3    0.161435   0.142907    0.451696        0.965970       0.182525   \n",
       "4      4    0.139929   0.073146    0.495830        0.972352       0.122635   \n",
       "\n",
       "   background  small_bowel  large_bowel   stomach  \n",
       "0    0.997100     0.062500     0.025914  0.033049  \n",
       "1    0.975157     0.220414     0.444955  0.000178  \n",
       "2    0.996517     0.376479     0.278258  0.001066  \n",
       "3    0.991311     0.389053     0.225878  0.213220  \n",
       "4    0.994196     0.331731     0.630950  0.105721  "
      ]
     },
     "execution_count": 18,
     "metadata": {},
     "output_type": "execute_result"
    }
   ],
   "source": [
    "learn.fit(5)"
   ]
  },
  {
   "cell_type": "markdown",
   "id": "69c1c67e-a220-4856-9750-110c541a8c06",
   "metadata": {},
   "source": [
    "#### WANDB HYPERPARAM SEARCH n LOGGIN"
   ]
  },
  {
   "cell_type": "code",
   "execution_count": 37,
   "id": "1270aacc-e0ea-4f91-a880-7941b400e951",
   "metadata": {},
   "outputs": [],
   "source": [
    "\n",
    "hyperparameters = {\n",
    "  \"learning_rate\": 0.001,\n",
    "  \"epochs\": 10,\n",
    "  \"batch_size\": 16,\n",
    "  'loss_fn': focal_loss ,\n",
    "  'arch':resnet34 \n",
    "}"
   ]
  },
  {
   "cell_type": "code",
   "execution_count": null,
   "id": "6701713e-836d-4147-8095-345f48505dc6",
   "metadata": {},
   "outputs": [],
   "source": [
    "ds=RLE_SegmentationDataset(all_imgs_df[:1000])\n",
    "ds_fg=ds.foreground_only()\n",
    "ds_fg.img_paths_df"
   ]
  },
  {
   "cell_type": "code",
   "execution_count": 40,
   "id": "82f00e6f-adc7-4883-8200-75de62c5412b",
   "metadata": {},
   "outputs": [],
   "source": [
    "metrics={'dice_coeff':dice_coeff,'pixel_accuracy':pixel_accuracy,'cross_entropy':CrossEntropyLossFlat(axis=1)}\n",
    "class_accus={class_name:partial(pixel_accuracy_cls,class_num=class_num) \n",
    "             for class_name,class_num in ds.codes.items()}\n",
    "metrics.update(class_accus)"
   ]
  },
  {
   "cell_type": "code",
   "execution_count": 53,
   "id": "7c7a22f4-6f2b-4d1e-a894-a3a4396eec4d",
   "metadata": {},
   "outputs": [],
   "source": [
    "def run_frm_config(hyperparameters,learner,dset, metrics):\n",
    "    \n",
    "    with wandb.init(project=\"test-project\", entity=\"ai_in_pathology\",config=hyperparameters):\n",
    "        config=hyperparameters\n",
    "        ds_train,ds_test=dset.train_test_split()\n",
    "\n",
    "        dls=SegmentationDataLoaders.from_dsets(ds_train,ds_test,\n",
    "                                       codes=np.array(list(ds_train.codes.keys())),bs=config['batch_size'],device='cuda')\n",
    "        \n",
    "    \n",
    "        model=create_unet_model(config['arch'],n_out=4,n_in=1,img_size=(224,224))\n",
    "        wandb.watch(model,criterion=config['loss_fn'],log_freq=10)\n",
    "        learn=learner(model=model,dls=dls,optim_class=Adam,lr=config['learning_rate'],loss_function=config['loss_fn'],device='cuda',\n",
    "                     metrics=metrics)\n",
    "    \n",
    "        learn.fit(config['epochs'])\n",
    "    return learn "
   ]
  },
  {
   "cell_type": "markdown",
   "id": "164c2213-f237-4f67-9aff-23ba7ce7c204",
   "metadata": {
    "tags": []
   },
   "source": [
    "#### Setting up Sweep for hyperparameter tuning"
   ]
  },
  {
   "cell_type": "code",
   "execution_count": 26,
   "id": "27eb8ba1-de08-4c82-952c-bcbcf53d65f6",
   "metadata": {
    "tags": []
   },
   "outputs": [
    {
     "name": "stdout",
     "output_type": "stream",
     "text": [
      "Writing wandb_sweep_config.py\n"
     ]
    }
   ],
   "source": [
    "%%writefile 'wandb_sweep_config.py'\n",
    "\n",
    "sweep_config = {\n",
    "    'method': 'bayes'\n",
    "    }\n",
    "metric = {\n",
    "    'name': 'dice_coeff',\n",
    "    'goal': 'maximize'   \n",
    "    }\n",
    "\n",
    "sweep_config['metric'] = metric\n",
    "\n",
    "\n",
    "parameters_dict={}\n",
    "\n",
    "model_args_dict={ 'arch': {\n",
    "        'values': ['resnet18','resnet34','resnet50','resnet101','resnet152']},\n",
    "        'self_attention':{'values':[True,False]}\n",
    "}\n",
    "\n",
    "loss_args_dict={\n",
    "    \n",
    "     'loss_fn': {\n",
    "        'values': ['focal_loss','wted_crossentropy']},\n",
    "    \n",
    "    'small_bowel_wt': {\n",
    "        'distribution': 'q_log_uniform_values',\n",
    "        'q': 10,\n",
    "        'min': 10,\n",
    "        'max': 1000\n",
    "      },\n",
    "    \n",
    "    'stomach_wt': {\n",
    "        'distribution': 'q_log_uniform_values',\n",
    "        'q': 10,\n",
    "        'min': 10,\n",
    "        'max': 1000\n",
    "      },\n",
    "    'large_bowel_wt': {\n",
    "        'distribution': 'q_log_uniform_values',\n",
    "        'q': 10,\n",
    "        'min': 10,\n",
    "        'max': 1000\n",
    "      },\n",
    "    'background_wt':{'values':[1.]}\n",
    "    }\n",
    "\n",
    "    \n",
    "optimizer_args_dict={ 'learning_rate': {\n",
    "        'distribution': 'q_log_uniform_values',\n",
    "        'q': 10,\n",
    "        'min': 1e-4,\n",
    "        'max': 100\n",
    "      }\n",
    "         }\n",
    "\n",
    "dataloader_args_dict={\n",
    "    'batch_size': {\n",
    "        # integers between 32 and 256\n",
    "        # with evenly-distributed logarithms \n",
    "        'distribution': 'q_log_uniform_values',\n",
    "        'q': 2,\n",
    "        'min': 8,\n",
    "        'max': 32,\n",
    "      }\n",
    "\n",
    "\n",
    "}\n",
    "\n",
    "epochs_dict={'epochs': {\n",
    "        'values': [5,10,20]}}    \n",
    "    \n",
    "    \n",
    "parameters_dict.update(model_args_dict)\n",
    "parameters_dict.update(loss_args_dict)\n",
    "parameters_dict.update(optimizer_args_dict)\n",
    "parameters_dict.update(epochs_dict)\n",
    "parameters_dict.update(dataloader_args_dict)\n",
    "sweep_config['parameters'] = parameters_dict\n",
    "sweep_id=wandb.sweep(sweep_config)\n",
    "\n",
    "\n",
    "arch_dict={'resnet18':resnet18,'resnet34':resnet34,'resnet50':resnet50,'resnet101':resnet101,'resnet152':resnet152}\n",
    "loss_fns_dict={'focal_loss':focal_loss,'wted_crossentropy':weighted_crossentropy_flat}"
   ]
  },
  {
   "cell_type": "code",
   "execution_count": 80,
   "id": "507ee7d1-8b7c-4495-addb-f30e778481c9",
   "metadata": {},
   "outputs": [],
   "source": [
    "ds_train,ds_test=ds_fg.train_test_split()\n",
    "\n",
    "\n",
    "def run_sweep(learner=PyTorchLearner,ds_train=ds_train,ds_test=ds_test, metrics=metrics):\n",
    "    \n",
    "    with wandb.init(project=\"test-project\", entity=\"ai_in_pathology\"):\n",
    "        config=wandb.config\n",
    "        dls=SegmentationDataLoaders.from_dsets(ds_train,ds_test,\n",
    "                                       codes=np.array(list(ds_train.codes.keys())),bs=config['batch_size'],device='cuda')\n",
    "        \n",
    "        ## setting up model from config\n",
    "        model=create_unet_model(arch=arch_dict[config['arch']],n_out=4,n_in=1,img_size=(224,224),\n",
    "                                self_attention=config['self_attention'])\n",
    "        \n",
    "        wandb.watch(model,criterion=config['loss_fn'],log_freq=10)\n",
    "        \n",
    "        ## setting up loss function from config,including class weights\n",
    "        class_loss_weights={class_name:config['_'.join((class_name,'wt'))] for class_name in ds_train.codes}\n",
    "        loss_fn=loss_fns_dict[config['loss_fn']]\n",
    "        wted_loss_fn=partial(loss_fn,weights=class_loss_weights)\n",
    "        \n",
    "        learn=learner(model=model,dls=dls,optim_class=Adam,lr=config['learning_rate'],loss_function=wted_loss_fn,device='cuda',\n",
    "                     metrics=metrics)\n",
    "    \n",
    "        learn.fit(config['epochs'])\n",
    "    return learn\n",
    "\n"
   ]
  },
  {
   "cell_type": "code",
   "execution_count": 81,
   "id": "ee764fb9-89fe-4390-9cc5-abc631220d09",
   "metadata": {
    "tags": []
   },
   "outputs": [
    {
     "name": "stderr",
     "output_type": "stream",
     "text": [
      "\u001b[34m\u001b[1mwandb\u001b[0m: Agent Starting Run: 5zlxorw9 with config:\n",
      "\u001b[34m\u001b[1mwandb\u001b[0m: \tarch: resnet101\n",
      "\u001b[34m\u001b[1mwandb\u001b[0m: \tbackground_wt: 1\n",
      "\u001b[34m\u001b[1mwandb\u001b[0m: \tbatch_size: 24\n",
      "\u001b[34m\u001b[1mwandb\u001b[0m: \tepochs: 10\n",
      "\u001b[34m\u001b[1mwandb\u001b[0m: \tlarge_bowel_wt: 110\n",
      "\u001b[34m\u001b[1mwandb\u001b[0m: \tlearning_rate: 0\n",
      "\u001b[34m\u001b[1mwandb\u001b[0m: \tloss_fn: wted_crossentropy\n",
      "\u001b[34m\u001b[1mwandb\u001b[0m: \tself_attention: False\n",
      "\u001b[34m\u001b[1mwandb\u001b[0m: \tsmall_bowel_wt: 60\n",
      "\u001b[34m\u001b[1mwandb\u001b[0m: \tstomach_wt: 80\n",
      "\u001b[34m\u001b[1mwandb\u001b[0m: \u001b[33mWARNING\u001b[0m Ignored wandb.init() arg project when running a sweep.\n",
      "\u001b[34m\u001b[1mwandb\u001b[0m: \u001b[33mWARNING\u001b[0m Ignored wandb.init() arg entity when running a sweep.\n"
     ]
    },
    {
     "data": {
      "text/html": [
       "Tracking run with wandb version 0.13.2"
      ],
      "text/plain": [
       "<IPython.core.display.HTML object>"
      ]
     },
     "metadata": {},
     "output_type": "display_data"
    },
    {
     "data": {
      "text/html": [
       "Run data is saved locally in <code>D:\\kaggle_gi_tract_seg\\wandb\\run-20220902_153056-5zlxorw9</code>"
      ],
      "text/plain": [
       "<IPython.core.display.HTML object>"
      ]
     },
     "metadata": {},
     "output_type": "display_data"
    },
    {
     "data": {
      "text/html": [
       "Syncing run <strong><a href=\"https://wandb.ai/ai_in_pathology/uncategorized/runs/5zlxorw9\" target=\"_blank\">vague-sweep-2</a></strong> to <a href=\"https://wandb.ai/ai_in_pathology/uncategorized\" target=\"_blank\">Weights & Biases</a> (<a href=\"https://wandb.me/run\" target=\"_blank\">docs</a>)<br/>Sweep page:  <a href=\"https://wandb.ai/ai_in_pathology/uncategorized/sweeps/jaqzjyem\" target=\"_blank\">https://wandb.ai/ai_in_pathology/uncategorized/sweeps/jaqzjyem</a>"
      ],
      "text/plain": [
       "<IPython.core.display.HTML object>"
      ]
     },
     "metadata": {},
     "output_type": "display_data"
    },
    {
     "name": "stdout",
     "output_type": "stream",
     "text": [
      "Due to IPython and Windows limitation, python multiprocessing isn't available now.\n",
      "So `number_workers` is changed to 0 to avoid getting stuck\n",
      "Due to IPython and Windows limitation, python multiprocessing isn't available now.\n",
      "So `number_workers` is changed to 0 to avoid getting stuck\n"
     ]
    },
    {
     "data": {
      "application/vnd.jupyter.widget-view+json": {
       "model_id": "2a6fa1325fbd42d7a7be9be442c54581",
       "version_major": 2,
       "version_minor": 0
      },
      "text/plain": [
       "  0%|          | 0/10 [00:00<?, ?it/s]"
      ]
     },
     "metadata": {},
     "output_type": "display_data"
    },
    {
     "data": {
      "application/vnd.jupyter.widget-view+json": {
       "model_id": "0b1a45616f6a4e79aadf8ce5ddad1342",
       "version_major": 2,
       "version_minor": 0
      },
      "text/plain": [
       "  0%|          | 0/155 [00:00<?, ?it/s]"
      ]
     },
     "metadata": {},
     "output_type": "display_data"
    },
    {
     "data": {
      "text/html": [
       "Waiting for W&B process to finish... <strong style=\"color:red\">(failed 1).</strong> Press Ctrl-C to abort syncing."
      ],
      "text/plain": [
       "<IPython.core.display.HTML object>"
      ]
     },
     "metadata": {},
     "output_type": "display_data"
    },
    {
     "data": {
      "application/vnd.jupyter.widget-view+json": {
       "model_id": "",
       "version_major": 2,
       "version_minor": 0
      },
      "text/plain": [
       "VBox(children=(Label(value='0.001 MB of 0.001 MB uploaded (0.000 MB deduped)\\r'), FloatProgress(value=1.0, max…"
      ]
     },
     "metadata": {},
     "output_type": "display_data"
    },
    {
     "data": {
      "text/html": [
       "Synced <strong style=\"color:#cdcd00\">vague-sweep-2</strong>: <a href=\"https://wandb.ai/ai_in_pathology/uncategorized/runs/5zlxorw9\" target=\"_blank\">https://wandb.ai/ai_in_pathology/uncategorized/runs/5zlxorw9</a><br/>Synced 6 W&B file(s), 0 media file(s), 0 artifact file(s) and 0 other file(s)"
      ],
      "text/plain": [
       "<IPython.core.display.HTML object>"
      ]
     },
     "metadata": {},
     "output_type": "display_data"
    },
    {
     "data": {
      "text/html": [
       "Find logs at: <code>.\\wandb\\run-20220902_153056-5zlxorw9\\logs</code>"
      ],
      "text/plain": [
       "<IPython.core.display.HTML object>"
      ]
     },
     "metadata": {},
     "output_type": "display_data"
    },
    {
     "name": "stderr",
     "output_type": "stream",
     "text": [
      "Run 5zlxorw9 errored: RuntimeError('CUDA out of memory. Tried to allocate 222.00 MiB (GPU 0; 6.00 GiB total capacity; 4.95 GiB already allocated; 0 bytes free; 5.29 GiB reserved in total by PyTorch) If reserved memory is >> allocated memory try setting max_split_size_mb to avoid fragmentation.  See documentation for Memory Management and PYTORCH_CUDA_ALLOC_CONF')\n",
      "\u001b[34m\u001b[1mwandb\u001b[0m: \u001b[32m\u001b[41mERROR\u001b[0m Run 5zlxorw9 errored: RuntimeError('CUDA out of memory. Tried to allocate 222.00 MiB (GPU 0; 6.00 GiB total capacity; 4.95 GiB already allocated; 0 bytes free; 5.29 GiB reserved in total by PyTorch) If reserved memory is >> allocated memory try setting max_split_size_mb to avoid fragmentation.  See documentation for Memory Management and PYTORCH_CUDA_ALLOC_CONF')\n"
     ]
    }
   ],
   "source": [
    "count = 1 # number of runs to execute\n",
    "wandb.agent(sweep_id, function=run_sweep, count=count)"
   ]
  },
  {
   "cell_type": "code",
   "execution_count": 54,
   "id": "243edc45-ae08-414e-8f70-d8fbf17616f3",
   "metadata": {
    "collapsed": true,
    "jupyter": {
     "outputs_hidden": true
    },
    "tags": []
   },
   "outputs": [
    {
     "data": {
      "text/html": [
       "Tracking run with wandb version 0.13.2"
      ],
      "text/plain": [
       "<IPython.core.display.HTML object>"
      ]
     },
     "metadata": {},
     "output_type": "display_data"
    },
    {
     "data": {
      "text/html": [
       "Run data is saved locally in <code>D:\\kaggle_gi_tract_seg\\wandb\\run-20220901_000109-3erfuzcn</code>"
      ],
      "text/plain": [
       "<IPython.core.display.HTML object>"
      ]
     },
     "metadata": {},
     "output_type": "display_data"
    },
    {
     "data": {
      "text/html": [
       "Syncing run <strong><a href=\"https://wandb.ai/ai_in_pathology/test-project/runs/3erfuzcn\" target=\"_blank\">feasible-dragon-9</a></strong> to <a href=\"https://wandb.ai/ai_in_pathology/test-project\" target=\"_blank\">Weights & Biases</a> (<a href=\"https://wandb.me/run\" target=\"_blank\">docs</a>)<br/>"
      ],
      "text/plain": [
       "<IPython.core.display.HTML object>"
      ]
     },
     "metadata": {},
     "output_type": "display_data"
    },
    {
     "name": "stdout",
     "output_type": "stream",
     "text": [
      "Due to IPython and Windows limitation, python multiprocessing isn't available now.\n",
      "So `number_workers` is changed to 0 to avoid getting stuck\n",
      "Due to IPython and Windows limitation, python multiprocessing isn't available now.\n",
      "So `number_workers` is changed to 0 to avoid getting stuck\n"
     ]
    },
    {
     "name": "stderr",
     "output_type": "stream",
     "text": [
      "D:\\Anaconda3\\envs\\fastai2022\\lib\\site-packages\\torchvision\\models\\_utils.py:209: UserWarning: The parameter 'pretrained' is deprecated since 0.13 and will be removed in 0.15, please use 'weights' instead.\n",
      "  f\"The parameter '{pretrained_param}' is deprecated since 0.13 and will be removed in 0.15, \"\n",
      "D:\\Anaconda3\\envs\\fastai2022\\lib\\site-packages\\torchvision\\models\\_utils.py:223: UserWarning: Arguments other than a weight enum or `None` for 'weights' are deprecated since 0.13 and will be removed in 0.15. The current behavior is equivalent to passing `weights=ResNet34_Weights.IMAGENET1K_V1`. You can also use `weights=ResNet34_Weights.DEFAULT` to get the most up-to-date weights.\n",
      "  warnings.warn(msg)\n"
     ]
    },
    {
     "data": {
      "application/vnd.jupyter.widget-view+json": {
       "model_id": "4c36a70942cf45b193e860ddfa940eb8",
       "version_major": 2,
       "version_minor": 0
      },
      "text/plain": [
       "  0%|          | 0/10 [00:00<?, ?it/s]"
      ]
     },
     "metadata": {},
     "output_type": "display_data"
    },
    {
     "data": {
      "application/vnd.jupyter.widget-view+json": {
       "model_id": "3cb752d718a94d01852e7558b127a56f",
       "version_major": 2,
       "version_minor": 0
      },
      "text/plain": [
       "  0%|          | 0/67 [00:00<?, ?it/s]"
      ]
     },
     "metadata": {},
     "output_type": "display_data"
    },
    {
     "data": {
      "text/html": [
       "Waiting for W&B process to finish... <strong style=\"color:red\">(failed 1).</strong> Press Ctrl-C to abort syncing."
      ],
      "text/plain": [
       "<IPython.core.display.HTML object>"
      ]
     },
     "metadata": {},
     "output_type": "display_data"
    },
    {
     "data": {
      "application/vnd.jupyter.widget-view+json": {
       "model_id": "",
       "version_major": 2,
       "version_minor": 0
      },
      "text/plain": [
       "VBox(children=(Label(value='0.001 MB of 0.001 MB uploaded (0.000 MB deduped)\\r'), FloatProgress(value=1.0, max…"
      ]
     },
     "metadata": {},
     "output_type": "display_data"
    },
    {
     "data": {
      "text/html": [
       "Synced <strong style=\"color:#cdcd00\">feasible-dragon-9</strong>: <a href=\"https://wandb.ai/ai_in_pathology/test-project/runs/3erfuzcn\" target=\"_blank\">https://wandb.ai/ai_in_pathology/test-project/runs/3erfuzcn</a><br/>Synced 6 W&B file(s), 0 media file(s), 0 artifact file(s) and 0 other file(s)"
      ],
      "text/plain": [
       "<IPython.core.display.HTML object>"
      ]
     },
     "metadata": {},
     "output_type": "display_data"
    },
    {
     "data": {
      "text/html": [
       "Find logs at: <code>.\\wandb\\run-20220901_000109-3erfuzcn\\logs</code>"
      ],
      "text/plain": [
       "<IPython.core.display.HTML object>"
      ]
     },
     "metadata": {},
     "output_type": "display_data"
    },
    {
     "ename": "RuntimeError",
     "evalue": "CUDA out of memory. Tried to allocate 298.00 MiB (GPU 0; 6.00 GiB total capacity; 4.51 GiB already allocated; 0 bytes free; 5.29 GiB reserved in total by PyTorch) If reserved memory is >> allocated memory try setting max_split_size_mb to avoid fragmentation.  See documentation for Memory Management and PYTORCH_CUDA_ALLOC_CONF",
     "output_type": "error",
     "traceback": [
      "\u001b[1;31m---------------------------------------------------------------------------\u001b[0m",
      "\u001b[1;31mRuntimeError\u001b[0m                              Traceback (most recent call last)",
      "\u001b[1;32m~\\AppData\\Local\\Temp\\ipykernel_12668\\1693131013.py\u001b[0m in \u001b[0;36m<module>\u001b[1;34m\u001b[0m\n\u001b[1;32m----> 1\u001b[1;33m \u001b[0mlearn\u001b[0m\u001b[1;33m=\u001b[0m\u001b[0mrun_frm_config\u001b[0m\u001b[1;33m(\u001b[0m\u001b[0mhyperparameters\u001b[0m\u001b[1;33m=\u001b[0m\u001b[0mhyperparameters\u001b[0m\u001b[1;33m,\u001b[0m\u001b[0mlearner\u001b[0m\u001b[1;33m=\u001b[0m\u001b[0mPyTorchLearner\u001b[0m\u001b[1;33m,\u001b[0m\u001b[0mdset\u001b[0m\u001b[1;33m=\u001b[0m\u001b[0mds_fg\u001b[0m\u001b[1;33m,\u001b[0m\u001b[0mmetrics\u001b[0m\u001b[1;33m=\u001b[0m\u001b[0mmetrics\u001b[0m\u001b[1;33m)\u001b[0m\u001b[1;33m\u001b[0m\u001b[1;33m\u001b[0m\u001b[0m\n\u001b[0m",
      "\u001b[1;32m~\\AppData\\Local\\Temp\\ipykernel_12668\\721991184.py\u001b[0m in \u001b[0;36mrun_frm_config\u001b[1;34m(hyperparameters, learner, dset, metrics)\u001b[0m\n\u001b[0;32m     14\u001b[0m                      metrics=metrics)\n\u001b[0;32m     15\u001b[0m \u001b[1;33m\u001b[0m\u001b[0m\n\u001b[1;32m---> 16\u001b[1;33m         \u001b[0mlearn\u001b[0m\u001b[1;33m.\u001b[0m\u001b[0mfit\u001b[0m\u001b[1;33m(\u001b[0m\u001b[0mconfig\u001b[0m\u001b[1;33m[\u001b[0m\u001b[1;34m'epochs'\u001b[0m\u001b[1;33m]\u001b[0m\u001b[1;33m)\u001b[0m\u001b[1;33m\u001b[0m\u001b[1;33m\u001b[0m\u001b[0m\n\u001b[0m\u001b[0;32m     17\u001b[0m     \u001b[1;32mreturn\u001b[0m \u001b[0mlearn\u001b[0m\u001b[1;33m\u001b[0m\u001b[1;33m\u001b[0m\u001b[0m\n",
      "\u001b[1;32m~\\AppData\\Local\\Temp\\ipykernel_12668\\935448792.py\u001b[0m in \u001b[0;36mfit\u001b[1;34m(self, n_epochs)\u001b[0m\n\u001b[0;32m     71\u001b[0m         \u001b[0mlog\u001b[0m\u001b[1;33m=\u001b[0m\u001b[1;33m[\u001b[0m\u001b[1;33m]\u001b[0m\u001b[1;33m\u001b[0m\u001b[1;33m\u001b[0m\u001b[0m\n\u001b[0;32m     72\u001b[0m         \u001b[1;32mfor\u001b[0m \u001b[0mi\u001b[0m \u001b[1;32min\u001b[0m \u001b[0mtqdm\u001b[0m\u001b[1;33m(\u001b[0m\u001b[0mrange\u001b[0m\u001b[1;33m(\u001b[0m\u001b[0mn_epochs\u001b[0m\u001b[1;33m)\u001b[0m\u001b[1;33m)\u001b[0m\u001b[1;33m:\u001b[0m\u001b[1;33m\u001b[0m\u001b[1;33m\u001b[0m\u001b[0m\n\u001b[1;32m---> 73\u001b[1;33m             \u001b[0mtrain_loss\u001b[0m\u001b[1;33m=\u001b[0m\u001b[0mself\u001b[0m\u001b[1;33m.\u001b[0m\u001b[0mtrain_epoch\u001b[0m\u001b[1;33m(\u001b[0m\u001b[0mtrain_loader\u001b[0m\u001b[1;33m)\u001b[0m\u001b[1;33m\u001b[0m\u001b[1;33m\u001b[0m\u001b[0m\n\u001b[0m\u001b[0;32m     74\u001b[0m             \u001b[0meval_loss\u001b[0m\u001b[1;33m,\u001b[0m\u001b[0mmetrics_dict\u001b[0m\u001b[1;33m=\u001b[0m\u001b[0mself\u001b[0m\u001b[1;33m.\u001b[0m\u001b[0mvalid_epoch\u001b[0m\u001b[1;33m(\u001b[0m\u001b[0meval_loader\u001b[0m\u001b[1;33m)\u001b[0m\u001b[1;33m\u001b[0m\u001b[1;33m\u001b[0m\u001b[0m\n\u001b[0;32m     75\u001b[0m \u001b[1;33m\u001b[0m\u001b[0m\n",
      "\u001b[1;32m~\\AppData\\Local\\Temp\\ipykernel_12668\\935448792.py\u001b[0m in \u001b[0;36mtrain_epoch\u001b[1;34m(self, train_loader)\u001b[0m\n\u001b[0;32m     37\u001b[0m                                                                      trainloss,j)\n\u001b[0;32m     38\u001b[0m             \u001b[0mself\u001b[0m\u001b[1;33m.\u001b[0m\u001b[0moptimizer\u001b[0m\u001b[1;33m.\u001b[0m\u001b[0mzero_grad\u001b[0m\u001b[1;33m(\u001b[0m\u001b[1;33m)\u001b[0m\u001b[1;33m\u001b[0m\u001b[1;33m\u001b[0m\u001b[0m\n\u001b[1;32m---> 39\u001b[1;33m             \u001b[0mtrainloss\u001b[0m\u001b[1;33m.\u001b[0m\u001b[0mbackward\u001b[0m\u001b[1;33m(\u001b[0m\u001b[1;33m)\u001b[0m\u001b[1;33m\u001b[0m\u001b[1;33m\u001b[0m\u001b[0m\n\u001b[0m\u001b[0;32m     40\u001b[0m             \u001b[0mself\u001b[0m\u001b[1;33m.\u001b[0m\u001b[0moptimizer\u001b[0m\u001b[1;33m.\u001b[0m\u001b[0mstep\u001b[0m\u001b[1;33m(\u001b[0m\u001b[1;33m)\u001b[0m\u001b[1;33m\u001b[0m\u001b[1;33m\u001b[0m\u001b[0m\n\u001b[0;32m     41\u001b[0m         \u001b[1;32mreturn\u001b[0m \u001b[0mrunning_trainloss\u001b[0m\u001b[1;33m\u001b[0m\u001b[1;33m\u001b[0m\u001b[0m\n",
      "\u001b[1;32mD:\\Anaconda3\\envs\\fastai2022\\lib\\site-packages\\torch\\_tensor.py\u001b[0m in \u001b[0;36mbackward\u001b[1;34m(self, gradient, retain_graph, create_graph, inputs)\u001b[0m\n\u001b[0;32m    393\u001b[0m                 \u001b[0mretain_graph\u001b[0m\u001b[1;33m=\u001b[0m\u001b[0mretain_graph\u001b[0m\u001b[1;33m,\u001b[0m\u001b[1;33m\u001b[0m\u001b[1;33m\u001b[0m\u001b[0m\n\u001b[0;32m    394\u001b[0m                 \u001b[0mcreate_graph\u001b[0m\u001b[1;33m=\u001b[0m\u001b[0mcreate_graph\u001b[0m\u001b[1;33m,\u001b[0m\u001b[1;33m\u001b[0m\u001b[1;33m\u001b[0m\u001b[0m\n\u001b[1;32m--> 395\u001b[1;33m                 inputs=inputs)\n\u001b[0m\u001b[0;32m    396\u001b[0m         \u001b[0mtorch\u001b[0m\u001b[1;33m.\u001b[0m\u001b[0mautograd\u001b[0m\u001b[1;33m.\u001b[0m\u001b[0mbackward\u001b[0m\u001b[1;33m(\u001b[0m\u001b[0mself\u001b[0m\u001b[1;33m,\u001b[0m \u001b[0mgradient\u001b[0m\u001b[1;33m,\u001b[0m \u001b[0mretain_graph\u001b[0m\u001b[1;33m,\u001b[0m \u001b[0mcreate_graph\u001b[0m\u001b[1;33m,\u001b[0m \u001b[0minputs\u001b[0m\u001b[1;33m=\u001b[0m\u001b[0minputs\u001b[0m\u001b[1;33m)\u001b[0m\u001b[1;33m\u001b[0m\u001b[1;33m\u001b[0m\u001b[0m\n\u001b[0;32m    397\u001b[0m \u001b[1;33m\u001b[0m\u001b[0m\n",
      "\u001b[1;32mD:\\Anaconda3\\envs\\fastai2022\\lib\\site-packages\\torch\\overrides.py\u001b[0m in \u001b[0;36mhandle_torch_function\u001b[1;34m(public_api, relevant_args, *args, **kwargs)\u001b[0m\n\u001b[0;32m   1496\u001b[0m         \u001b[1;31m# Use `public_api` instead of `implementation` so __torch_function__\u001b[0m\u001b[1;33m\u001b[0m\u001b[1;33m\u001b[0m\u001b[1;33m\u001b[0m\u001b[0m\n\u001b[0;32m   1497\u001b[0m         \u001b[1;31m# implementations can do equality/identity comparisons.\u001b[0m\u001b[1;33m\u001b[0m\u001b[1;33m\u001b[0m\u001b[1;33m\u001b[0m\u001b[0m\n\u001b[1;32m-> 1498\u001b[1;33m         \u001b[0mresult\u001b[0m \u001b[1;33m=\u001b[0m \u001b[0mtorch_func_method\u001b[0m\u001b[1;33m(\u001b[0m\u001b[0mpublic_api\u001b[0m\u001b[1;33m,\u001b[0m \u001b[0mtypes\u001b[0m\u001b[1;33m,\u001b[0m \u001b[0margs\u001b[0m\u001b[1;33m,\u001b[0m \u001b[0mkwargs\u001b[0m\u001b[1;33m)\u001b[0m\u001b[1;33m\u001b[0m\u001b[1;33m\u001b[0m\u001b[0m\n\u001b[0m\u001b[0;32m   1499\u001b[0m \u001b[1;33m\u001b[0m\u001b[0m\n\u001b[0;32m   1500\u001b[0m         \u001b[1;32mif\u001b[0m \u001b[0mresult\u001b[0m \u001b[1;32mis\u001b[0m \u001b[1;32mnot\u001b[0m \u001b[0mNotImplemented\u001b[0m\u001b[1;33m:\u001b[0m\u001b[1;33m\u001b[0m\u001b[1;33m\u001b[0m\u001b[0m\n",
      "\u001b[1;32mD:\\Anaconda3\\envs\\fastai2022\\lib\\site-packages\\fastai\\torch_core.py\u001b[0m in \u001b[0;36m__torch_function__\u001b[1;34m(cls, func, types, args, kwargs)\u001b[0m\n\u001b[0;32m    374\u001b[0m         \u001b[1;32mif\u001b[0m \u001b[0mcls\u001b[0m\u001b[1;33m.\u001b[0m\u001b[0mdebug\u001b[0m \u001b[1;32mand\u001b[0m \u001b[0mfunc\u001b[0m\u001b[1;33m.\u001b[0m\u001b[0m__name__\u001b[0m \u001b[1;32mnot\u001b[0m \u001b[1;32min\u001b[0m \u001b[1;33m(\u001b[0m\u001b[1;34m'__str__'\u001b[0m\u001b[1;33m,\u001b[0m\u001b[1;34m'__repr__'\u001b[0m\u001b[1;33m)\u001b[0m\u001b[1;33m:\u001b[0m \u001b[0mprint\u001b[0m\u001b[1;33m(\u001b[0m\u001b[0mfunc\u001b[0m\u001b[1;33m,\u001b[0m \u001b[0mtypes\u001b[0m\u001b[1;33m,\u001b[0m \u001b[0margs\u001b[0m\u001b[1;33m,\u001b[0m \u001b[0mkwargs\u001b[0m\u001b[1;33m)\u001b[0m\u001b[1;33m\u001b[0m\u001b[1;33m\u001b[0m\u001b[0m\n\u001b[0;32m    375\u001b[0m         \u001b[1;32mif\u001b[0m \u001b[0m_torch_handled\u001b[0m\u001b[1;33m(\u001b[0m\u001b[0margs\u001b[0m\u001b[1;33m,\u001b[0m \u001b[0mcls\u001b[0m\u001b[1;33m.\u001b[0m\u001b[0m_opt\u001b[0m\u001b[1;33m,\u001b[0m \u001b[0mfunc\u001b[0m\u001b[1;33m)\u001b[0m\u001b[1;33m:\u001b[0m \u001b[0mtypes\u001b[0m \u001b[1;33m=\u001b[0m \u001b[1;33m(\u001b[0m\u001b[0mtorch\u001b[0m\u001b[1;33m.\u001b[0m\u001b[0mTensor\u001b[0m\u001b[1;33m,\u001b[0m\u001b[1;33m)\u001b[0m\u001b[1;33m\u001b[0m\u001b[1;33m\u001b[0m\u001b[0m\n\u001b[1;32m--> 376\u001b[1;33m         \u001b[0mres\u001b[0m \u001b[1;33m=\u001b[0m \u001b[0msuper\u001b[0m\u001b[1;33m(\u001b[0m\u001b[1;33m)\u001b[0m\u001b[1;33m.\u001b[0m\u001b[0m__torch_function__\u001b[0m\u001b[1;33m(\u001b[0m\u001b[0mfunc\u001b[0m\u001b[1;33m,\u001b[0m \u001b[0mtypes\u001b[0m\u001b[1;33m,\u001b[0m \u001b[0margs\u001b[0m\u001b[1;33m,\u001b[0m \u001b[0mifnone\u001b[0m\u001b[1;33m(\u001b[0m\u001b[0mkwargs\u001b[0m\u001b[1;33m,\u001b[0m \u001b[1;33m{\u001b[0m\u001b[1;33m}\u001b[0m\u001b[1;33m)\u001b[0m\u001b[1;33m)\u001b[0m\u001b[1;33m\u001b[0m\u001b[1;33m\u001b[0m\u001b[0m\n\u001b[0m\u001b[0;32m    377\u001b[0m         \u001b[0mdict_objs\u001b[0m \u001b[1;33m=\u001b[0m \u001b[0m_find_args\u001b[0m\u001b[1;33m(\u001b[0m\u001b[0margs\u001b[0m\u001b[1;33m)\u001b[0m \u001b[1;32mif\u001b[0m \u001b[0margs\u001b[0m \u001b[1;32melse\u001b[0m \u001b[0m_find_args\u001b[0m\u001b[1;33m(\u001b[0m\u001b[0mlist\u001b[0m\u001b[1;33m(\u001b[0m\u001b[0mkwargs\u001b[0m\u001b[1;33m.\u001b[0m\u001b[0mvalues\u001b[0m\u001b[1;33m(\u001b[0m\u001b[1;33m)\u001b[0m\u001b[1;33m)\u001b[0m\u001b[1;33m)\u001b[0m\u001b[1;33m\u001b[0m\u001b[1;33m\u001b[0m\u001b[0m\n\u001b[0;32m    378\u001b[0m         \u001b[1;32mif\u001b[0m \u001b[0missubclass\u001b[0m\u001b[1;33m(\u001b[0m\u001b[0mtype\u001b[0m\u001b[1;33m(\u001b[0m\u001b[0mres\u001b[0m\u001b[1;33m)\u001b[0m\u001b[1;33m,\u001b[0m\u001b[0mTensorBase\u001b[0m\u001b[1;33m)\u001b[0m \u001b[1;32mand\u001b[0m \u001b[0mdict_objs\u001b[0m\u001b[1;33m:\u001b[0m \u001b[0mres\u001b[0m\u001b[1;33m.\u001b[0m\u001b[0mset_meta\u001b[0m\u001b[1;33m(\u001b[0m\u001b[0mdict_objs\u001b[0m\u001b[1;33m[\u001b[0m\u001b[1;36m0\u001b[0m\u001b[1;33m]\u001b[0m\u001b[1;33m,\u001b[0m\u001b[0mas_copy\u001b[0m\u001b[1;33m=\u001b[0m\u001b[1;32mTrue\u001b[0m\u001b[1;33m)\u001b[0m\u001b[1;33m\u001b[0m\u001b[1;33m\u001b[0m\u001b[0m\n",
      "\u001b[1;32mD:\\Anaconda3\\envs\\fastai2022\\lib\\site-packages\\torch\\_tensor.py\u001b[0m in \u001b[0;36m__torch_function__\u001b[1;34m(cls, func, types, args, kwargs)\u001b[0m\n\u001b[0;32m   1119\u001b[0m \u001b[1;33m\u001b[0m\u001b[0m\n\u001b[0;32m   1120\u001b[0m         \u001b[1;32mwith\u001b[0m \u001b[0m_C\u001b[0m\u001b[1;33m.\u001b[0m\u001b[0mDisableTorchFunction\u001b[0m\u001b[1;33m(\u001b[0m\u001b[1;33m)\u001b[0m\u001b[1;33m:\u001b[0m\u001b[1;33m\u001b[0m\u001b[1;33m\u001b[0m\u001b[0m\n\u001b[1;32m-> 1121\u001b[1;33m             \u001b[0mret\u001b[0m \u001b[1;33m=\u001b[0m \u001b[0mfunc\u001b[0m\u001b[1;33m(\u001b[0m\u001b[1;33m*\u001b[0m\u001b[0margs\u001b[0m\u001b[1;33m,\u001b[0m \u001b[1;33m**\u001b[0m\u001b[0mkwargs\u001b[0m\u001b[1;33m)\u001b[0m\u001b[1;33m\u001b[0m\u001b[1;33m\u001b[0m\u001b[0m\n\u001b[0m\u001b[0;32m   1122\u001b[0m             \u001b[1;32mif\u001b[0m \u001b[0mfunc\u001b[0m \u001b[1;32min\u001b[0m \u001b[0mget_default_nowrap_functions\u001b[0m\u001b[1;33m(\u001b[0m\u001b[1;33m)\u001b[0m\u001b[1;33m:\u001b[0m\u001b[1;33m\u001b[0m\u001b[1;33m\u001b[0m\u001b[0m\n\u001b[0;32m   1123\u001b[0m                 \u001b[1;32mreturn\u001b[0m \u001b[0mret\u001b[0m\u001b[1;33m\u001b[0m\u001b[1;33m\u001b[0m\u001b[0m\n",
      "\u001b[1;32mD:\\Anaconda3\\envs\\fastai2022\\lib\\site-packages\\torch\\_tensor.py\u001b[0m in \u001b[0;36mbackward\u001b[1;34m(self, gradient, retain_graph, create_graph, inputs)\u001b[0m\n\u001b[0;32m    394\u001b[0m                 \u001b[0mcreate_graph\u001b[0m\u001b[1;33m=\u001b[0m\u001b[0mcreate_graph\u001b[0m\u001b[1;33m,\u001b[0m\u001b[1;33m\u001b[0m\u001b[1;33m\u001b[0m\u001b[0m\n\u001b[0;32m    395\u001b[0m                 inputs=inputs)\n\u001b[1;32m--> 396\u001b[1;33m         \u001b[0mtorch\u001b[0m\u001b[1;33m.\u001b[0m\u001b[0mautograd\u001b[0m\u001b[1;33m.\u001b[0m\u001b[0mbackward\u001b[0m\u001b[1;33m(\u001b[0m\u001b[0mself\u001b[0m\u001b[1;33m,\u001b[0m \u001b[0mgradient\u001b[0m\u001b[1;33m,\u001b[0m \u001b[0mretain_graph\u001b[0m\u001b[1;33m,\u001b[0m \u001b[0mcreate_graph\u001b[0m\u001b[1;33m,\u001b[0m \u001b[0minputs\u001b[0m\u001b[1;33m=\u001b[0m\u001b[0minputs\u001b[0m\u001b[1;33m)\u001b[0m\u001b[1;33m\u001b[0m\u001b[1;33m\u001b[0m\u001b[0m\n\u001b[0m\u001b[0;32m    397\u001b[0m \u001b[1;33m\u001b[0m\u001b[0m\n\u001b[0;32m    398\u001b[0m     \u001b[1;32mdef\u001b[0m \u001b[0mregister_hook\u001b[0m\u001b[1;33m(\u001b[0m\u001b[0mself\u001b[0m\u001b[1;33m,\u001b[0m \u001b[0mhook\u001b[0m\u001b[1;33m)\u001b[0m\u001b[1;33m:\u001b[0m\u001b[1;33m\u001b[0m\u001b[1;33m\u001b[0m\u001b[0m\n",
      "\u001b[1;32mD:\\Anaconda3\\envs\\fastai2022\\lib\\site-packages\\torch\\autograd\\__init__.py\u001b[0m in \u001b[0;36mbackward\u001b[1;34m(tensors, grad_tensors, retain_graph, create_graph, grad_variables, inputs)\u001b[0m\n\u001b[0;32m    173\u001b[0m     Variable._execution_engine.run_backward(  # Calls into the C++ engine to run the backward pass\n\u001b[0;32m    174\u001b[0m         \u001b[0mtensors\u001b[0m\u001b[1;33m,\u001b[0m \u001b[0mgrad_tensors_\u001b[0m\u001b[1;33m,\u001b[0m \u001b[0mretain_graph\u001b[0m\u001b[1;33m,\u001b[0m \u001b[0mcreate_graph\u001b[0m\u001b[1;33m,\u001b[0m \u001b[0minputs\u001b[0m\u001b[1;33m,\u001b[0m\u001b[1;33m\u001b[0m\u001b[1;33m\u001b[0m\u001b[0m\n\u001b[1;32m--> 175\u001b[1;33m         allow_unreachable=True, accumulate_grad=True)  # Calls into the C++ engine to run the backward pass\n\u001b[0m\u001b[0;32m    176\u001b[0m \u001b[1;33m\u001b[0m\u001b[0m\n\u001b[0;32m    177\u001b[0m def grad(\n",
      "\u001b[1;31mRuntimeError\u001b[0m: CUDA out of memory. Tried to allocate 298.00 MiB (GPU 0; 6.00 GiB total capacity; 4.51 GiB already allocated; 0 bytes free; 5.29 GiB reserved in total by PyTorch) If reserved memory is >> allocated memory try setting max_split_size_mb to avoid fragmentation.  See documentation for Memory Management and PYTORCH_CUDA_ALLOC_CONF"
     ]
    }
   ],
   "source": [
    "learn=run_frm_config(hyperparameters=hyperparameters,learner=PyTorchLearner,dset=ds_fg,metrics=metrics)"
   ]
  }
 ],
 "metadata": {
  "kernelspec": {
   "display_name": "Python 3 (ipykernel)",
   "language": "python",
   "name": "python3"
  },
  "language_info": {
   "codemirror_mode": {
    "name": "ipython",
    "version": 3
   },
   "file_extension": ".py",
   "mimetype": "text/x-python",
   "name": "python",
   "nbconvert_exporter": "python",
   "pygments_lexer": "ipython3",
   "version": "3.7.13"
  }
 },
 "nbformat": 4,
 "nbformat_minor": 5
}
